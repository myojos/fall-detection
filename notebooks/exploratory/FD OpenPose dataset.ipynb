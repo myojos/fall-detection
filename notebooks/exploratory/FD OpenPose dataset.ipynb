{
 "cells": [
  {
   "cell_type": "code",
   "execution_count": 1,
   "metadata": {},
   "outputs": [
    {
     "data": {
      "text/plain": [
       "'C:\\\\Users\\\\khale\\\\Documents\\\\OJOS'"
      ]
     },
     "execution_count": 1,
     "metadata": {},
     "output_type": "execute_result"
    }
   ],
   "source": [
    "import os\n",
    "os.chdir('../../')\n",
    "os.getcwd()"
   ]
  },
  {
   "cell_type": "code",
   "execution_count": 2,
   "metadata": {},
   "outputs": [],
   "source": [
    "%run imports.py\n",
    "%matplotlib inline"
   ]
  },
  {
   "cell_type": "code",
   "execution_count": 28,
   "metadata": {
    "scrolled": true
   },
   "outputs": [],
   "source": [
    "from ojosfd.models.openpose.model import bodypose_model as OpenPoseModel\n",
    "from ojosfd.models.openpose.body import Body"
   ]
  },
  {
   "cell_type": "code",
   "execution_count": 29,
   "metadata": {},
   "outputs": [
    {
     "data": {
      "text/plain": [
       "<ojosfd.models.openpose.body.Body at 0x2443f318cc0>"
      ]
     },
     "execution_count": 29,
     "metadata": {},
     "output_type": "execute_result"
    }
   ],
   "source": [
    "body_estimation = Body(dir_path + \"/ojosfd/models/openpose/body_pose_model.pth\")\n",
    "body_estimation"
   ]
  },
  {
   "cell_type": "code",
   "execution_count": 31,
   "metadata": {},
   "outputs": [],
   "source": [
    "test_image = 'data/FD/1219/rgb/rgb_0001.png'\n",
    "oriImg = cv2.imread(test_image)\n",
    "candidate, subset = body_estimation(oriImg)"
   ]
  },
  {
   "cell_type": "code",
   "execution_count": 32,
   "metadata": {},
   "outputs": [
    {
     "name": "stdout",
     "output_type": "stream",
     "text": [
      "[[101.         115.           0.92483878   0.        ]\n",
      " [105.         117.           0.96090764   1.        ]\n",
      " [ 87.         117.           0.95323467   2.        ]\n",
      " [ 83.         142.           0.91497153   3.        ]\n",
      " [ 83.         164.           0.83405328   4.        ]\n",
      " [123.         118.           0.89782226   5.        ]\n",
      " [130.         144.           0.92661232   6.        ]\n",
      " [128.         166.           0.90672076   7.        ]\n",
      " [ 95.         165.           0.85510397   8.        ]\n",
      " [ 99.         196.           0.822981     9.        ]\n",
      " [103.         217.           0.79944843  10.        ]\n",
      " [115.         166.           0.81108695  11.        ]\n",
      " [118.         195.           0.82981241  12.        ]\n",
      " [126.         219.           0.81587446  13.        ]\n",
      " [ 97.         111.           0.90018177  14.        ]\n",
      " [105.         110.           0.89966553  15.        ]\n",
      " [ 93.         106.           0.35884088  16.        ]\n",
      " [112.         105.           0.82229364  17.        ]] [[ 0.          1.          2.          3.          4.          5.\n",
      "   6.          7.          8.          9.         10.         11.\n",
      "  12.         13.         14.         15.         16.         17.\n",
      "  31.61934065 18.        ]]\n"
     ]
    }
   ],
   "source": [
    "print(candidate, subset)"
   ]
  }
 ],
 "metadata": {
  "kernelspec": {
   "display_name": "Python 3",
   "language": "python",
   "name": "python3"
  },
  "language_info": {
   "codemirror_mode": {
    "name": "ipython",
    "version": 3
   },
   "file_extension": ".py",
   "mimetype": "text/x-python",
   "name": "python",
   "nbconvert_exporter": "python",
   "pygments_lexer": "ipython3",
   "version": "3.6.3"
  }
 },
 "nbformat": 4,
 "nbformat_minor": 2
}
