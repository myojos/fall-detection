{
 "cells": [
  {
   "cell_type": "markdown",
   "metadata": {},
   "source": [
    "# Fall detection using OpenCV, spatial features and RNN's"
   ]
  },
  {
   "cell_type": "markdown",
   "metadata": {},
   "source": [
    "## Preprocessing"
   ]
  },
  {
   "cell_type": "markdown",
   "metadata": {},
   "source": [
    "### Videos to CSV features;label"
   ]
  },
  {
   "cell_type": "markdown",
   "metadata": {},
   "source": [
    "This step: \n",
    "1. Iterates over a dataset folder containing videos\n",
    "2. For each set of pictures, it goes over each sequence of `SEQ_LENGTH` and loads features using OpenCV (default was set to 10 based on [this](https://www.hindawi.com/journals/wcmc/2017/9474806/) paper).\n",
    "3. Once `SEQ_LENGTH` images have been seen, it saves it to a csv with the right label  \n",
    "  \n",
    "**The OpenCV usage**  \n",
    "Following these tow papers ([paper_a](https://dl.acm.org/doi/pdf/10.1145/3197768.3201539), [paper_b](https://www.researchgate.net/publication/261424777_A_method_for_real-time_detection_of_human_fall_from_video)), I decided to run with a simple feature extraction method.  \n",
    "For each picture:  \n",
    "1. Remove background\n",
    "2. Extract the biggest contour (assuming it is a person)\n",
    "3. Fit an eclispe to the contour\n",
    "4. From the eclipse, extract these features:\n",
    "    * Angle\n",
    "    * Top location\n",
    "    * Aspect ratio\n",
    "5. If this is not the first frame:\n",
    "    * Change in angle\n",
    "    * Change in top location (representing head speed)\n",
    "    * Change in AR\n",
    "    * OpticalFlow features which are not yet known to me"
   ]
  },
  {
   "cell_type": "markdown",
   "metadata": {},
   "source": [
    "#### Research - how to best work with the OpenCV \"gift\" modules"
   ]
  },
  {
   "cell_type": "markdown",
   "metadata": {},
   "source": [
    "**Notes from round 1**\n",
    "It seems that the background detector is not ideal. There are too many white pixels dancing around. Let's see if I can improve it. Googling ideas gave me:\n",
    "1. Erosion\n",
    "2. Adding Blur before removing background, to eliminate noise.\n",
    "\n",
    "**Notes form round 2**  \n",
    "OK. Seems that both techniques really do the trick with the people. Kernel of size 4x4 was somewhat a sweetspot. I can't really say which subtractor gives nicer results, so I'll just stick to the literature standart MOG2. There clearly is a problem of \"Brokem Contours\", let's see how can we deal with that. [This](https://www.ncbi.nlm.nih.gov/pmc/articles/PMC5751723/pdf/sensors-17-02864.pdf) paper came to be relevant, as they faced the same issue. Moreover, it seems that they somehow cleaned the foreground image, I wonder how. It's google time!  \n",
    "Ideas I found:\n",
    "1. Different learning rates for the subtractor, or even stop learning after a while.\n",
    "2. Dilation at the end. From OpenCV [docs](https://docs.opencv.org/trunk/d9/d61/tutorial_py_morphological_ops.html) it is called closing, so I can just try it.\n",
    "3. It seems that any graph algorithm is [time expensive and won't fit](https://dsp.stackexchange.com/questions/2564/opencv-c-connect-nearby-contours-based-on-distance-between-them)\n",
    "\n",
    "**Notes from round 3**  \n",
    "Changing the learning rate didn't work. Closing worked nicely! I think there's more room for improvement, but according to the same paper mentioned in round2, a better algorithm was a very costly process, so for now let's skip it and try to go minimal. Now I want to see how will the elipses look like, and if it's really a big problem. If it is, I might have to manually combine the two biggest ones, if they are about the same size (let's say the small one is at least 20% of the big one).  \n",
    "Ok, so after fitting the eclipse I can say:  \n",
    "1. I must remove shadows.\n",
    "2. I need to check if there is only one person there, otherwise it's going bonanza.\n",
    "3. I need to connect the two biggest contours with some heuristic.\n",
    "\n",
    "**Notes from round 4**  \n",
    "Runnning the video again after the first background subtractor learned something was so much better. I will definitely let each subtractor learn on each camera. But how is this possible in production? will I have to create an object for each camera? technically yes... that's a massive amount of bg subtractors!  \n",
    "Alright. For now let's try to make the most of what we have. I'll try to combine background detection with motion detection, and see if I can get better results.  \n",
    "  \n",
    "After I couldn't get it to work in reasonable time, I decided to skip to something else. I noticed that the ellipses change rapidly, and that's a problem. So - I think I need a method to balance the ellipses. The rule of thumb is: the more extreme the change is, the less I believe it. What makes a change extreme? the angle? the area? the center? maybe all? Let's start with mean, if the change in surface is greater than 20%.  \n",
    "  \n",
    "_It's definitely working!_ 😄 It's time to play with some decisions.  \n",
    "Things I want to try:\n",
    "1. Change to an average mean based on the ratio of growth: If the new ellipse is bigger by 80%, then it will only be considered for 20% of the change (same for smaller ellipse).\n",
    "2. Only move the center but keep all the same parameters.  \n",
    "\n",
    "**Notes from round 5**  \n",
    "so, weighted average didn't work with respect to the change. This made me think I should just be more reluctant to change. After trying to just move the center it seems that ellipses change by way more than 20% each frame. It's time to try larger thresholds. There is a problem: At the beginning, the ellipse changes a lot. You know what, let's understand how much does it change actually...  \n",
    "So, I tracked the area changes and tracked the angle change. It made sense to clip the change so that no sudden burst is allowed. It really improved the results! Now, it seems that the bg subtractor is just not strong enough. Since I am working with the elipse features anyways, I'm gonna try things that I didn't do before, like Ersion instead of gaussianBlur.  \n",
    "  \n",
    "After many trials and plays... I found something that I think is working fine. I still have to check why my `point_in_ellipse` function doesn't work, but other than that seems like the algorithm for the ellipses is pretty stable!  \n",
    "  \n",
    "**Notes from round 6**  \n",
    "I managed to solve the `point_in_ellipse` issue, and now it seems that the system works well even without the mean ellipses! I will try on multiple videos. Another problem I solved was the min human size. I added a few more conditions to recognize a unified contour, and brought back the averaging (it is smoother with it). I think I need some system to manage \"disappearing elipses\", I added a 3 ellipses history. Now let's see how it works on other videos!  \n",
    "Notes after watching a few other videos:\n",
    "1. The `point_in_ellipse` is just a tiny bit too restrictive. It shouldn't be EXACTLY in the ellipse but rather in-or-very-close. I tried some stuff and settled on the 1.1 value\n",
    "2. I almost removed the condition on contour area out of ellipse area (the min value is super low). It helped when we had some noise that merged into a huge ellipse, but the mostly happens in the beginning of the video. Since most of the videos start with some useless parts, I will have to cut them off (shouldn't be hard).  \n",
    "  \n",
    "Another note is that because the bg subtractor learns over time, it's better to go over the videos and not over a bunch of images each time. That means we will have to change the preprocessing stage. Luckily we already have a nice code written for us 👨‍💻\n",
    "\n",
    "**Final notes**\n",
    "All the cameras are fixed, so I can extract the background quite easily. I can create for each camera a fgbg extractor. There was something about the median frame (why median and not mean?) I should check this out. Anyways, for now I will start by runnning a generic algorithm and see how it learns."
   ]
  },
  {
   "cell_type": "code",
   "execution_count": 1,
   "metadata": {},
   "outputs": [],
   "source": [
    "import cv2\n",
    "import numpy as np"
   ]
  },
  {
   "cell_type": "code",
   "execution_count": 2,
   "metadata": {},
   "outputs": [],
   "source": [
    "def ellipse_area(ellipse):\n",
    "    '''https://stackoverflow.com/questions/36499462/how-to-find-the-area-of-an-ellipse-obtained-using-cv-fitellipsecontour'''\n",
    "    _, (MA, ma), _ = ellipse\n",
    "    return np.pi * (MA / 2) * (ma / 2)"
   ]
  },
  {
   "cell_type": "code",
   "execution_count": 3,
   "metadata": {},
   "outputs": [],
   "source": [
    "def min_angle_diff(old_angle, new_angle):\n",
    "    '''Find the minimal difference between two angles.\n",
    "    \n",
    "    If we have angle X and target Y, we can either add to X until we get to Y, \n",
    "    or subtract and get to Y from the other side of the circle. When we make a\n",
    "    change, we want to make it in the shortest direction. This function returns\n",
    "    the *signed* smallest angle, where the sign indicates direction. \n",
    "    '''\n",
    "    a = (new_angle - old_angle) % 360 - 180\n",
    "    b = (new_angle + 180 - old_angle) % 360 - 180 \n",
    "    return min([a,b], key=abs) "
   ]
  },
  {
   "cell_type": "code",
   "execution_count": 4,
   "metadata": {},
   "outputs": [],
   "source": [
    "AXIS_CHANGE_BOUNDARY = .1\n",
    "ANGLE_CHANGE_BOUNDARY = 15\n",
    "\n",
    "def limit_ellipse_change(old_ellipse, new_ellipse):\n",
    "    '''Return the limited change of an ellipse'''\n",
    "    # Unpack parameters\n",
    "    old_center, old_axes, old_angle = old_ellipse\n",
    "    new_center, new_axes, new_angle = new_ellipse\n",
    "    old_MA, old_ma = old_axes\n",
    "    new_MA, new_ma = new_axes\n",
    "    # Clip changes\n",
    "    MA_change = np.clip(new_MA / old_MA, 1 - AXIS_CHANGE_BOUNDARY, 1 + AXIS_CHANGE_BOUNDARY)\n",
    "    ma_change = np.clip(new_ma / old_ma, 1 - AXIS_CHANGE_BOUNDARY, 1 + AXIS_CHANGE_BOUNDARY)\n",
    "    angle_change = np.clip(min_angle_diff(old_angle, new_angle), -ANGLE_CHANGE_BOUNDARY, ANGLE_CHANGE_BOUNDARY)\n",
    "    return np.mean([old_center, new_center], axis=0).tolist(), \\\n",
    "           (old_MA * MA_change, old_ma * ma_change), \\\n",
    "           (old_angle + angle_change) % 180"
   ]
  },
  {
   "cell_type": "code",
   "execution_count": 5,
   "metadata": {},
   "outputs": [],
   "source": [
    "def get_contour_center(contour):\n",
    "    m = cv2.moments(contour)\n",
    "    x = m[\"m10\"] / m[\"m00\"]\n",
    "    y = m[\"m01\"] / m[\"m00\"]\n",
    "    return x, y"
   ]
  },
  {
   "cell_type": "code",
   "execution_count": 6,
   "metadata": {},
   "outputs": [],
   "source": [
    "def check_point_ellipse_proximity(p, ellipse):\n",
    "    '''This function checks whether a point is inside, or very close to an ellipse'''\n",
    "    px, py = p\n",
    "    (cx, cy), (MA, ma), alpha = ellipse\n",
    "    a, b = MA / 2, ma / 2\n",
    "    alpha = (180 - (alpha - 90)) % 180   # Convert alpha to normal axes  \n",
    "    alpha = alpha * np.pi / 180.         # Convert to radians\n",
    "    equ_elem_a = np.power((np.cos(alpha) * (px - cx) + np.sin(alpha) * (py - cy)) / a, 2) \n",
    "    equ_elem_b = np.power((np.sin(alpha) * (px - cx) - np.cos(alpha) * (py - cy)) / b, 2)\n",
    "    return equ_elem_a + equ_elem_b <= 1.1"
   ]
  },
  {
   "cell_type": "code",
   "execution_count": 10,
   "metadata": {},
   "outputs": [],
   "source": [
    "# Constants\n",
    "CLOSING_KERNEL = cv2.getStructuringElement(cv2.MORPH_ELLIPSE, (4, 4))\n",
    "EROTION_KERNEL = np.ones((2, 2), np.uint8)\n",
    "MIN_HUMAN_CONTOUR_AREA = 1000\n",
    "MHI_DURATION = 500 # milliseconds\n",
    "MHI_THRESHOLD = 32\n",
    "GAUSSIAN_KERNEL = (3, 3)"
   ]
  },
  {
   "cell_type": "code",
   "execution_count": 62,
   "metadata": {},
   "outputs": [],
   "source": [
    "cap.release()\n",
    "cv2.destroyAllWindows()\n",
    "\n",
    "cap = cv2.VideoCapture('data/multicam/videos/chute14/cam7.avi')\n",
    "background_subtractor = cv2.createBackgroundSubtractorMOG2()\n",
    "\n",
    "### tMHI prep\n",
    "fps = cap.get(cv2.CAP_PROP_FPS)\n",
    "ms_per_frame = 1000 / fps   # milliseconds\n",
    "_, last_frame = cap.read()\n",
    "last_frame = cv2.GaussianBlur(last_frame, GAUSSIAN_KERNEL, 0)\n",
    "h, w = last_frame.shape[:2]\n",
    "mhi = np.zeros((h, w), np.float32)\n",
    "\n",
    "### Kalman Filter Prep\n",
    "state_size = 8          # [x, y, v_x, v_y, alpha, v_alpha, a, b]\n",
    "measurement_size = 5    # [x, y, alpha, a, b]\n",
    "kalman = cv2.KalmanFilter(state_size, measurement_size, 0)\n",
    "\n",
    "## Transition State Matrix\n",
    "# [ 1 0 dt 0  0 0  0 0 ]\n",
    "# [ 0 1 0  dt 0 0  0 0 ]\n",
    "# [ 0 0 1  0  0 0  0 0 ]\n",
    "# [ 0 0 0  1  0 0  0 0 ]\n",
    "# [ 0 0 0  0  1 dt 0 0 ]\n",
    "# [ 0 0 0  0  0 1  0 0 ]\n",
    "# [ 0 0 0  0  0 0  1 0 ]\n",
    "# [ 0 0 0  0  0 0  0 1 ]\n",
    "kalman.transitionMatrix = np.eye(state_size, dtype=np.float32)\n",
    "kalman.transitionMatrix[(0,1,4), (2,3,5)] = ms_per_frame\n",
    "\n",
    "## Measure Matrix H\n",
    "# [ 1 0 0 0 0 0 0 0 ]\n",
    "# [ 0 1 0 0 0 0 0 0 ]\n",
    "# [ 0 0 0 0 1 0 0 0 ]\n",
    "# [ 0 0 0 0 0 0 1 0 ]\n",
    "# [ 0 0 0 0 0 0 0 1 ]\n",
    "kalman.measurementMatrix = np.zeros((measurement_size, state_size), dtype=np.float32)\n",
    "pos = [(0,0), (1,1), (2,4), (3,6), (4,7)]\n",
    "rows, cols = zip(*pos)\n",
    "kalman.measurementMatrix[rows, cols] = 1.\n",
    "\n",
    "## Process Noise Covariance Matrix Q\n",
    "# [ Ex  0   0     0     0    0      0   0  ]\n",
    "# [ 0   Ey  0     0     0    0      0   0  ]\n",
    "# [ 0   0   Ev_x  0     0    0      0   0  ]\n",
    "# [ 0   0   0     Ev_y  0    0      0   0  ]\n",
    "# [ 0   0   0     0     Eal  0      0   0  ]\n",
    "# [ 0   0   0     0     0    Ev_al  0   0  ]\n",
    "# [ 0   0   0     0     0    0      Ea  0  ]\n",
    "# [ 0   0   0     0     0    0      0   Eb ]\n",
    "kalman.processNoiseCov = 1e-5 * np.eye(state_size, dtype=np.float32)  # Values can't change sharply\n",
    "kalman.processNoiseCov[4,4] = 0        # Angle shouldn't change very fast (unless there is a fall!)\n",
    "kalman.processNoiseCov[(6,7),(6,7)] = 5e-4        # Height and width can change faster\n",
    "\n",
    "## Measurement Noise Cov Matrix R\n",
    "kalman.measurementNoiseCov = np.eye(measurement_size, dtype=np.float32)\n",
    "kalman.measurementNoiseCov[2,2] = 1e-1  # Angle is very noisy (especially around the limits)\n",
    "kalman.measurementNoiseCov[(0,1),(0,1)] = 1  # Center is super noisy\n",
    "kalman.measurementNoiseCov[(3,4),(3,4)] = 1e-1  # Height and width are not noisy\n",
    "\n",
    "## No contours found frame count tolerance\n",
    "kalman_filter_active = False  # This will change according to our contour search\n",
    "NO_CONTOUR_TOLERANCE = 10     # After this amount of frames with no contours the KF will turn inactive\n",
    "contour_unfound_count = 0     \n",
    "\n",
    "### Continous angle tracking (to avoid drastic changes on direction change)\n",
    "last_angle = None\n",
    "\n",
    "for fn in range(1, min(1200, int(cap.get(cv2.CAP_PROP_FRAME_COUNT)))):\n",
    "    ret, frame = cap.read()\n",
    "    if fn < 250:\n",
    "        continue\n",
    "\n",
    "    # Set parameters to 0 unless found otherwise\n",
    "    c_motion = 0\n",
    "    projection_ratio = 0\n",
    "                \n",
    "    # Transformations to improve the background subtraction\n",
    "    # tMHI\n",
    "    img = cv2.GaussianBlur(frame, GAUSSIAN_KERNEL, 0)\n",
    "    frame_diff = cv2.absdiff(img, last_frame)\n",
    "    gray_diff = cv2.cvtColor(frame_diff, cv2.COLOR_BGR2GRAY)\n",
    "    _, motion_mask = cv2.threshold(gray_diff, MHI_THRESHOLD, 1, cv2.THRESH_BINARY)\n",
    "    cv2.motempl.updateMotionHistory(motion_mask, mhi, fn * ms_per_frame, MHI_DURATION)\n",
    "    last_frame = img\n",
    "    \n",
    "    # Preparation for contour finding\n",
    "    img = cv2.GaussianBlur(frame, (5,5), 0)\n",
    "    img = background_subtractor.apply(img)\n",
    "    img = cv2.erode(img, EROTION_KERNEL, iterations=1)\n",
    "    img = cv2.morphologyEx(img, cv2.MORPH_CLOSE, CLOSING_KERNEL, iterations=5)\n",
    "    img[img < 255] = 0\n",
    "\n",
    "    # Find contours\n",
    "    (contours, _) = cv2.findContours(img, cv2.RETR_TREE, cv2.CHAIN_APPROX_SIMPLE)\n",
    "    img = cv2.cvtColor(img, cv2.COLOR_BGR2RGB)\n",
    "\n",
    "    if contours:\n",
    "        biggest_contour = max(contours, key=lambda c: cv2.contourArea(c))\n",
    "\n",
    "        # Check minimal requirements to fit new ellipse\n",
    "        if cv2.contourArea(biggest_contour) > MIN_HUMAN_CONTOUR_AREA and len(biggest_contour) >= 5:\n",
    "            # calculate motion coefficient\n",
    "            mask = np.zeros(img.shape[:2], dtype=\"uint8\")\n",
    "            cv2.drawContours(mask, biggest_contour, -1, 1, -1)\n",
    "            tmhi = np.uint8(np.clip((mhi - (fn * ms_per_frame - MHI_DURATION)) / MHI_DURATION, 0, 1))\n",
    "            relevant_tmhi = np.multiply(mask, tmhi)\n",
    "            c_motion = np.sum(relevant_tmhi) / np.sum(mask) \n",
    "\n",
    "            # calculate projections\n",
    "            horizontal_proj = mask.any(axis=0).sum()\n",
    "            vertical_proj = mask.any(axis=1).sum()\n",
    "            projection_ratio = vertical_proj / horizontal_proj\n",
    "\n",
    "            contour_unfound_count = 0\n",
    "            measured_ellipse = cv2.fitEllipse(biggest_contour)\n",
    "            (x, y), (MA, ma), alpha = measured_ellipse\n",
    "            cv2.ellipse(img, measured_ellipse, (0,0,255), 2)\n",
    "            if not kalman_filter_active:\n",
    "                last_angle = alpha\n",
    "                kalman.errorCovPre = np.eye(state_size)\n",
    "                state = np.array([x, y, 0, 0, alpha, 0, MA, ma], dtype=np.float32)[:, np.newaxis]\n",
    "                kalman.statePost = state\n",
    "                kalman_filter_active = True\n",
    "            else:\n",
    "                corrected_alpha = min(alpha, alpha - 180, alpha + 180, key=lambda x: abs(x - last_angle))\n",
    "                kalman.correct(np.array([x, y, corrected_alpha, MA, ma], dtype=np.float32)[:, np.newaxis])\n",
    "                last_angle = corrected_alpha\n",
    "\n",
    "        else:\n",
    "            contour_unfound_count += 1\n",
    "            if contour_unfound_count >= NO_CONTOUR_TOLERANCE:\n",
    "                kalman_filter_active = False\n",
    "                last_angle = None\n",
    "                \n",
    "    else:\n",
    "        contour_unfound_count += 1\n",
    "        if contour_unfound_count >= NO_CONTOUR_TOLERANCE:\n",
    "            kalman_filter_active = False\n",
    "            last_angle = None\n",
    "    \n",
    "    if kalman_filter_active:\n",
    "        state = kalman.predict() \n",
    "        x,y,_,_,alpha,_,a,b = state.T[0]\n",
    "        cv2.ellipse(img, ((x, y), (a, b), alpha % 180), (255,255,0), 2)\n",
    "    \n",
    "    cv2.rectangle(img, (10, 2), (100,20), (255,255,255), -1)\n",
    "    cv2.putText(img, str(fn), (15, 15), cv2.FONT_HERSHEY_SIMPLEX, 0.5, (0,0,0))\n",
    "    cv2.imshow('Frame', frame)\n",
    "    cv2.imshow('FG Mask', img)\n",
    "\n",
    "    keyboard = cv2.waitKey(0)\n",
    "    if keyboard == ord('q') or keyboard == 27:\n",
    "        break\n",
    "\n",
    "cap.release()\n",
    "cv2.destroyAllWindows()"
   ]
  },
  {
   "cell_type": "markdown",
   "metadata": {},
   "source": [
    "#### Running the research results on the actual videos to produce the CSV"
   ]
  },
  {
   "cell_type": "markdown",
   "metadata": {},
   "source": [
    "I decided that before I go on any further, it's time to start testing with what we already have! So now it's time for feature extraction. As planned, here are the features we will extract from the frames and their explanation:\n",
    "1. Angle (ANGLE): measured between -90 and 90\n",
    "2. Head location (HEAD_LOC) and speed (HEAD_SPD). This feature can prove to be very useful, for the moment we will start with the top most point in the bounding ellipse, based on [this paper](https://www.researchgate.net/publication/221551756_Robust_Fall_Detection_Using_Human_Shape_and_Multi-class_Support_Vector_Machine) and [this paper](https://homes.esat.kuleuven.be/~konijn/publications/2016/fallcam.pdf).\n",
    "3. Aspect ratio (ASPECT_RATIO) and change in aspect ratio (CAR). Measured as `a / b`. \n",
    "4. Center location (CTR_LOC) and speed (CTR_SPD). Given by the ellipse `x` and `y`.\n",
    "\n",
    "After that there will be a few more things to try:\n",
    "1. Adding optical flow features and also Kalman filtering, like [here](https://www.ncbi.nlm.nih.gov/pmc/articles/PMC5751723/pdf/sensors-17-02864.pdf)  \n",
    "  \n",
    "**So without further ado, let's get to it!**"
   ]
  },
  {
   "cell_type": "code",
   "execution_count": 58,
   "metadata": {},
   "outputs": [],
   "source": [
    "import csv\n",
    "import json\n",
    "from pathlib import Path\n",
    "\n",
    "import cv2\n",
    "import numpy as np\n",
    "from tqdm.auto import tqdm, trange"
   ]
  },
  {
   "cell_type": "code",
   "execution_count": 68,
   "metadata": {},
   "outputs": [],
   "source": [
    "NUM_SCENARIOS = 24\n",
    "NUM_CAMERAS = 8\n",
    "DATASET_FOLDER = Path('data/multicam/')\n",
    "VIDEOS_FOLDER = DATASET_FOLDER / 'videos'\n",
    "DATASET_CSV_FILE = DATASET_FOLDER / 'multicam_dataset.csv'\n",
    "SEQ_LENGTH = 15\n",
    "MIN_NUMBER_OF_FALL_FRAMES = 5  # A sequence will be classified as a fall only this number of frames into the fall and after it\n",
    "FEATURES = ['CTR_LOC_X', 'CTR_LOC_Y', 'CTR_SPD_X', 'CTR_SPD_Y',\n",
    "            'ANGLE', 'ANGLE_SPEED', 'WIDTH', 'HEIGHT', \n",
    "            'ASPECT_RATIO', 'C_MOTION', 'PROJ_RATIO']\n",
    "# FEATURES = ['STD_ANGLE', 'STD_C_MOTION', 'STD_PROJECTION_RATIO', 'C_MOTION']"
   ]
  },
  {
   "cell_type": "code",
   "execution_count": 71,
   "metadata": {},
   "outputs": [],
   "source": [
    "# Image processing constants\n",
    "CLOSING_KERNEL = cv2.getStructuringElement(cv2.MORPH_ELLIPSE, (4, 4))\n",
    "EROTION_KERNEL = np.ones((2, 2), np.uint8)\n",
    "MIN_HUMAN_CONTOUR_AREA = 1000\n",
    "MHI_DURATION = 500  # milliseconds\n",
    "MHI_THRESHOLD = 32\n",
    "GAUSSIAN_KERNEL = (3, 3)"
   ]
  },
  {
   "cell_type": "code",
   "execution_count": 72,
   "metadata": {},
   "outputs": [],
   "source": [
    "with open(DATASET_FOLDER / 'annotations_multicam.json', 'r') as ano_file, open(DATASET_FOLDER / 'delays.json', 'r') as delay_file:\n",
    "    annotations = json.load(ano_file)\n",
    "    delays = json.load(delay_file)"
   ]
  },
  {
   "cell_type": "code",
   "execution_count": 103,
   "metadata": {},
   "outputs": [
    {
     "data": {
      "application/vnd.jupyter.widget-view+json": {
       "model_id": "894cb230abd44eba9728066d6b56a3bb",
       "version_major": 2,
       "version_minor": 0
      },
      "text/plain": [
       "HBox(children=(FloatProgress(value=0.0, description='scenario', max=24.0, style=ProgressStyle(description_widt…"
      ]
     },
     "metadata": {},
     "output_type": "display_data"
    },
    {
     "data": {
      "application/vnd.jupyter.widget-view+json": {
       "model_id": "",
       "version_major": 2,
       "version_minor": 0
      },
      "text/plain": [
       "HBox(children=(FloatProgress(value=0.0, description='camera', max=8.0, style=ProgressStyle(description_width='…"
      ]
     },
     "metadata": {},
     "output_type": "display_data"
    },
    {
     "data": {
      "application/vnd.jupyter.widget-view+json": {
       "model_id": "",
       "version_major": 2,
       "version_minor": 0
      },
      "text/plain": [
       "HBox(children=(FloatProgress(value=0.0, description='frame', max=1561.0, style=ProgressStyle(description_width…"
      ]
     },
     "metadata": {},
     "output_type": "display_data"
    },
    {
     "data": {
      "application/vnd.jupyter.widget-view+json": {
       "model_id": "",
       "version_major": 2,
       "version_minor": 0
      },
      "text/plain": [
       "HBox(children=(FloatProgress(value=0.0, description='frame', max=1561.0, style=ProgressStyle(description_width…"
      ]
     },
     "metadata": {},
     "output_type": "display_data"
    },
    {
     "data": {
      "application/vnd.jupyter.widget-view+json": {
       "model_id": "",
       "version_major": 2,
       "version_minor": 0
      },
      "text/plain": [
       "HBox(children=(FloatProgress(value=0.0, description='frame', max=1566.0, style=ProgressStyle(description_width…"
      ]
     },
     "metadata": {},
     "output_type": "display_data"
    },
    {
     "data": {
      "application/vnd.jupyter.widget-view+json": {
       "model_id": "",
       "version_major": 2,
       "version_minor": 0
      },
      "text/plain": [
       "HBox(children=(FloatProgress(value=0.0, description='frame', max=1562.0, style=ProgressStyle(description_width…"
      ]
     },
     "metadata": {},
     "output_type": "display_data"
    },
    {
     "data": {
      "application/vnd.jupyter.widget-view+json": {
       "model_id": "",
       "version_major": 2,
       "version_minor": 0
      },
      "text/plain": [
       "HBox(children=(FloatProgress(value=0.0, description='frame', max=1581.0, style=ProgressStyle(description_width…"
      ]
     },
     "metadata": {},
     "output_type": "display_data"
    },
    {
     "data": {
      "application/vnd.jupyter.widget-view+json": {
       "model_id": "",
       "version_major": 2,
       "version_minor": 0
      },
      "text/plain": [
       "HBox(children=(FloatProgress(value=0.0, description='frame', max=1564.0, style=ProgressStyle(description_width…"
      ]
     },
     "metadata": {},
     "output_type": "display_data"
    },
    {
     "data": {
      "application/vnd.jupyter.widget-view+json": {
       "model_id": "",
       "version_major": 2,
       "version_minor": 0
      },
      "text/plain": [
       "HBox(children=(FloatProgress(value=0.0, description='frame', max=1564.0, style=ProgressStyle(description_width…"
      ]
     },
     "metadata": {},
     "output_type": "display_data"
    },
    {
     "data": {
      "application/vnd.jupyter.widget-view+json": {
       "model_id": "",
       "version_major": 2,
       "version_minor": 0
      },
      "text/plain": [
       "HBox(children=(FloatProgress(value=0.0, description='frame', max=1558.0, style=ProgressStyle(description_width…"
      ]
     },
     "metadata": {},
     "output_type": "display_data"
    },
    {
     "data": {
      "application/vnd.jupyter.widget-view+json": {
       "model_id": "",
       "version_major": 2,
       "version_minor": 0
      },
      "text/plain": [
       "HBox(children=(FloatProgress(value=0.0, description='camera', max=8.0, style=ProgressStyle(description_width='…"
      ]
     },
     "metadata": {},
     "output_type": "display_data"
    },
    {
     "data": {
      "application/vnd.jupyter.widget-view+json": {
       "model_id": "",
       "version_major": 2,
       "version_minor": 0
      },
      "text/plain": [
       "HBox(children=(FloatProgress(value=0.0, description='frame', max=830.0, style=ProgressStyle(description_width=…"
      ]
     },
     "metadata": {},
     "output_type": "display_data"
    },
    {
     "data": {
      "application/vnd.jupyter.widget-view+json": {
       "model_id": "",
       "version_major": 2,
       "version_minor": 0
      },
      "text/plain": [
       "HBox(children=(FloatProgress(value=0.0, description='frame', max=845.0, style=ProgressStyle(description_width=…"
      ]
     },
     "metadata": {},
     "output_type": "display_data"
    },
    {
     "data": {
      "application/vnd.jupyter.widget-view+json": {
       "model_id": "",
       "version_major": 2,
       "version_minor": 0
      },
      "text/plain": [
       "HBox(children=(FloatProgress(value=0.0, description='frame', max=805.0, style=ProgressStyle(description_width=…"
      ]
     },
     "metadata": {},
     "output_type": "display_data"
    },
    {
     "data": {
      "application/vnd.jupyter.widget-view+json": {
       "model_id": "",
       "version_major": 2,
       "version_minor": 0
      },
      "text/plain": [
       "HBox(children=(FloatProgress(value=0.0, description='frame', max=821.0, style=ProgressStyle(description_width=…"
      ]
     },
     "metadata": {},
     "output_type": "display_data"
    },
    {
     "data": {
      "application/vnd.jupyter.widget-view+json": {
       "model_id": "",
       "version_major": 2,
       "version_minor": 0
      },
      "text/plain": [
       "HBox(children=(FloatProgress(value=0.0, description='frame', max=823.0, style=ProgressStyle(description_width=…"
      ]
     },
     "metadata": {},
     "output_type": "display_data"
    },
    {
     "data": {
      "application/vnd.jupyter.widget-view+json": {
       "model_id": "",
       "version_major": 2,
       "version_minor": 0
      },
      "text/plain": [
       "HBox(children=(FloatProgress(value=0.0, description='frame', max=838.0, style=ProgressStyle(description_width=…"
      ]
     },
     "metadata": {},
     "output_type": "display_data"
    },
    {
     "data": {
      "application/vnd.jupyter.widget-view+json": {
       "model_id": "",
       "version_major": 2,
       "version_minor": 0
      },
      "text/plain": [
       "HBox(children=(FloatProgress(value=0.0, description='frame', max=838.0, style=ProgressStyle(description_width=…"
      ]
     },
     "metadata": {},
     "output_type": "display_data"
    },
    {
     "data": {
      "application/vnd.jupyter.widget-view+json": {
       "model_id": "",
       "version_major": 2,
       "version_minor": 0
      },
      "text/plain": [
       "HBox(children=(FloatProgress(value=0.0, description='frame', max=811.0, style=ProgressStyle(description_width=…"
      ]
     },
     "metadata": {},
     "output_type": "display_data"
    },
    {
     "data": {
      "application/vnd.jupyter.widget-view+json": {
       "model_id": "",
       "version_major": 2,
       "version_minor": 0
      },
      "text/plain": [
       "HBox(children=(FloatProgress(value=0.0, description='camera', max=8.0, style=ProgressStyle(description_width='…"
      ]
     },
     "metadata": {},
     "output_type": "display_data"
    },
    {
     "data": {
      "application/vnd.jupyter.widget-view+json": {
       "model_id": "",
       "version_major": 2,
       "version_minor": 0
      },
      "text/plain": [
       "HBox(children=(FloatProgress(value=0.0, description='frame', max=938.0, style=ProgressStyle(description_width=…"
      ]
     },
     "metadata": {},
     "output_type": "display_data"
    },
    {
     "data": {
      "application/vnd.jupyter.widget-view+json": {
       "model_id": "",
       "version_major": 2,
       "version_minor": 0
      },
      "text/plain": [
       "HBox(children=(FloatProgress(value=0.0, description='frame', max=942.0, style=ProgressStyle(description_width=…"
      ]
     },
     "metadata": {},
     "output_type": "display_data"
    },
    {
     "data": {
      "application/vnd.jupyter.widget-view+json": {
       "model_id": "",
       "version_major": 2,
       "version_minor": 0
      },
      "text/plain": [
       "HBox(children=(FloatProgress(value=0.0, description='frame', max=934.0, style=ProgressStyle(description_width=…"
      ]
     },
     "metadata": {},
     "output_type": "display_data"
    },
    {
     "data": {
      "application/vnd.jupyter.widget-view+json": {
       "model_id": "",
       "version_major": 2,
       "version_minor": 0
      },
      "text/plain": [
       "HBox(children=(FloatProgress(value=0.0, description='frame', max=942.0, style=ProgressStyle(description_width=…"
      ]
     },
     "metadata": {},
     "output_type": "display_data"
    },
    {
     "data": {
      "application/vnd.jupyter.widget-view+json": {
       "model_id": "",
       "version_major": 2,
       "version_minor": 0
      },
      "text/plain": [
       "HBox(children=(FloatProgress(value=0.0, description='frame', max=961.0, style=ProgressStyle(description_width=…"
      ]
     },
     "metadata": {},
     "output_type": "display_data"
    },
    {
     "data": {
      "application/vnd.jupyter.widget-view+json": {
       "model_id": "",
       "version_major": 2,
       "version_minor": 0
      },
      "text/plain": [
       "HBox(children=(FloatProgress(value=0.0, description='frame', max=946.0, style=ProgressStyle(description_width=…"
      ]
     },
     "metadata": {},
     "output_type": "display_data"
    },
    {
     "data": {
      "application/vnd.jupyter.widget-view+json": {
       "model_id": "",
       "version_major": 2,
       "version_minor": 0
      },
      "text/plain": [
       "HBox(children=(FloatProgress(value=0.0, description='frame', max=946.0, style=ProgressStyle(description_width=…"
      ]
     },
     "metadata": {},
     "output_type": "display_data"
    },
    {
     "data": {
      "application/vnd.jupyter.widget-view+json": {
       "model_id": "",
       "version_major": 2,
       "version_minor": 0
      },
      "text/plain": [
       "HBox(children=(FloatProgress(value=0.0, description='frame', max=926.0, style=ProgressStyle(description_width=…"
      ]
     },
     "metadata": {},
     "output_type": "display_data"
    },
    {
     "data": {
      "application/vnd.jupyter.widget-view+json": {
       "model_id": "",
       "version_major": 2,
       "version_minor": 0
      },
      "text/plain": [
       "HBox(children=(FloatProgress(value=0.0, description='camera', max=8.0, style=ProgressStyle(description_width='…"
      ]
     },
     "metadata": {},
     "output_type": "display_data"
    },
    {
     "data": {
      "application/vnd.jupyter.widget-view+json": {
       "model_id": "",
       "version_major": 2,
       "version_minor": 0
      },
      "text/plain": [
       "HBox(children=(FloatProgress(value=0.0, description='frame', max=1048.0, style=ProgressStyle(description_width…"
      ]
     },
     "metadata": {},
     "output_type": "display_data"
    },
    {
     "data": {
      "application/vnd.jupyter.widget-view+json": {
       "model_id": "",
       "version_major": 2,
       "version_minor": 0
      },
      "text/plain": [
       "HBox(children=(FloatProgress(value=0.0, description='frame', max=1055.0, style=ProgressStyle(description_width…"
      ]
     },
     "metadata": {},
     "output_type": "display_data"
    },
    {
     "data": {
      "application/vnd.jupyter.widget-view+json": {
       "model_id": "",
       "version_major": 2,
       "version_minor": 0
      },
      "text/plain": [
       "HBox(children=(FloatProgress(value=0.0, description='frame', max=1054.0, style=ProgressStyle(description_width…"
      ]
     },
     "metadata": {},
     "output_type": "display_data"
    },
    {
     "data": {
      "application/vnd.jupyter.widget-view+json": {
       "model_id": "",
       "version_major": 2,
       "version_minor": 0
      },
      "text/plain": [
       "HBox(children=(FloatProgress(value=0.0, description='frame', max=976.0, style=ProgressStyle(description_width=…"
      ]
     },
     "metadata": {},
     "output_type": "display_data"
    },
    {
     "data": {
      "application/vnd.jupyter.widget-view+json": {
       "model_id": "",
       "version_major": 2,
       "version_minor": 0
      },
      "text/plain": [
       "HBox(children=(FloatProgress(value=0.0, description='frame', max=1044.0, style=ProgressStyle(description_width…"
      ]
     },
     "metadata": {},
     "output_type": "display_data"
    },
    {
     "data": {
      "application/vnd.jupyter.widget-view+json": {
       "model_id": "",
       "version_major": 2,
       "version_minor": 0
      },
      "text/plain": [
       "HBox(children=(FloatProgress(value=0.0, description='frame', max=1058.0, style=ProgressStyle(description_width…"
      ]
     },
     "metadata": {},
     "output_type": "display_data"
    },
    {
     "data": {
      "application/vnd.jupyter.widget-view+json": {
       "model_id": "",
       "version_major": 2,
       "version_minor": 0
      },
      "text/plain": [
       "HBox(children=(FloatProgress(value=0.0, description='frame', max=1059.0, style=ProgressStyle(description_width…"
      ]
     },
     "metadata": {},
     "output_type": "display_data"
    },
    {
     "data": {
      "application/vnd.jupyter.widget-view+json": {
       "model_id": "",
       "version_major": 2,
       "version_minor": 0
      },
      "text/plain": [
       "HBox(children=(FloatProgress(value=0.0, description='frame', max=1032.0, style=ProgressStyle(description_width…"
      ]
     },
     "metadata": {},
     "output_type": "display_data"
    },
    {
     "data": {
      "application/vnd.jupyter.widget-view+json": {
       "model_id": "",
       "version_major": 2,
       "version_minor": 0
      },
      "text/plain": [
       "HBox(children=(FloatProgress(value=0.0, description='camera', max=8.0, style=ProgressStyle(description_width='…"
      ]
     },
     "metadata": {},
     "output_type": "display_data"
    },
    {
     "data": {
      "application/vnd.jupyter.widget-view+json": {
       "model_id": "",
       "version_major": 2,
       "version_minor": 0
      },
      "text/plain": [
       "HBox(children=(FloatProgress(value=0.0, description='frame', max=766.0, style=ProgressStyle(description_width=…"
      ]
     },
     "metadata": {},
     "output_type": "display_data"
    },
    {
     "data": {
      "application/vnd.jupyter.widget-view+json": {
       "model_id": "",
       "version_major": 2,
       "version_minor": 0
      },
      "text/plain": [
       "HBox(children=(FloatProgress(value=0.0, description='frame', max=773.0, style=ProgressStyle(description_width=…"
      ]
     },
     "metadata": {},
     "output_type": "display_data"
    },
    {
     "data": {
      "application/vnd.jupyter.widget-view+json": {
       "model_id": "",
       "version_major": 2,
       "version_minor": 0
      },
      "text/plain": [
       "HBox(children=(FloatProgress(value=0.0, description='frame', max=754.0, style=ProgressStyle(description_width=…"
      ]
     },
     "metadata": {},
     "output_type": "display_data"
    },
    {
     "data": {
      "application/vnd.jupyter.widget-view+json": {
       "model_id": "",
       "version_major": 2,
       "version_minor": 0
      },
      "text/plain": [
       "HBox(children=(FloatProgress(value=0.0, description='frame', max=760.0, style=ProgressStyle(description_width=…"
      ]
     },
     "metadata": {},
     "output_type": "display_data"
    },
    {
     "data": {
      "application/vnd.jupyter.widget-view+json": {
       "model_id": "",
       "version_major": 2,
       "version_minor": 0
      },
      "text/plain": [
       "HBox(children=(FloatProgress(value=0.0, description='frame', max=767.0, style=ProgressStyle(description_width=…"
      ]
     },
     "metadata": {},
     "output_type": "display_data"
    },
    {
     "data": {
      "application/vnd.jupyter.widget-view+json": {
       "model_id": "",
       "version_major": 2,
       "version_minor": 0
      },
      "text/plain": [
       "HBox(children=(FloatProgress(value=0.0, description='frame', max=775.0, style=ProgressStyle(description_width=…"
      ]
     },
     "metadata": {},
     "output_type": "display_data"
    },
    {
     "data": {
      "application/vnd.jupyter.widget-view+json": {
       "model_id": "",
       "version_major": 2,
       "version_minor": 0
      },
      "text/plain": [
       "HBox(children=(FloatProgress(value=0.0, description='frame', max=777.0, style=ProgressStyle(description_width=…"
      ]
     },
     "metadata": {},
     "output_type": "display_data"
    },
    {
     "data": {
      "application/vnd.jupyter.widget-view+json": {
       "model_id": "",
       "version_major": 2,
       "version_minor": 0
      },
      "text/plain": [
       "HBox(children=(FloatProgress(value=0.0, description='frame', max=749.0, style=ProgressStyle(description_width=…"
      ]
     },
     "metadata": {},
     "output_type": "display_data"
    },
    {
     "data": {
      "application/vnd.jupyter.widget-view+json": {
       "model_id": "",
       "version_major": 2,
       "version_minor": 0
      },
      "text/plain": [
       "HBox(children=(FloatProgress(value=0.0, description='camera', max=8.0, style=ProgressStyle(description_width='…"
      ]
     },
     "metadata": {},
     "output_type": "display_data"
    },
    {
     "data": {
      "application/vnd.jupyter.widget-view+json": {
       "model_id": "",
       "version_major": 2,
       "version_minor": 0
      },
      "text/plain": [
       "HBox(children=(FloatProgress(value=0.0, description='frame', max=1255.0, style=ProgressStyle(description_width…"
      ]
     },
     "metadata": {},
     "output_type": "display_data"
    },
    {
     "data": {
      "application/vnd.jupyter.widget-view+json": {
       "model_id": "",
       "version_major": 2,
       "version_minor": 0
      },
      "text/plain": [
       "HBox(children=(FloatProgress(value=0.0, description='frame', max=1355.0, style=ProgressStyle(description_width…"
      ]
     },
     "metadata": {},
     "output_type": "display_data"
    },
    {
     "data": {
      "application/vnd.jupyter.widget-view+json": {
       "model_id": "",
       "version_major": 2,
       "version_minor": 0
      },
      "text/plain": [
       "HBox(children=(FloatProgress(value=0.0, description='frame', max=1361.0, style=ProgressStyle(description_width…"
      ]
     },
     "metadata": {},
     "output_type": "display_data"
    },
    {
     "data": {
      "application/vnd.jupyter.widget-view+json": {
       "model_id": "",
       "version_major": 2,
       "version_minor": 0
      },
      "text/plain": [
       "HBox(children=(FloatProgress(value=0.0, description='frame', max=1345.0, style=ProgressStyle(description_width…"
      ]
     },
     "metadata": {},
     "output_type": "display_data"
    },
    {
     "data": {
      "application/vnd.jupyter.widget-view+json": {
       "model_id": "",
       "version_major": 2,
       "version_minor": 0
      },
      "text/plain": [
       "HBox(children=(FloatProgress(value=0.0, description='frame', max=1344.0, style=ProgressStyle(description_width…"
      ]
     },
     "metadata": {},
     "output_type": "display_data"
    },
    {
     "data": {
      "application/vnd.jupyter.widget-view+json": {
       "model_id": "",
       "version_major": 2,
       "version_minor": 0
      },
      "text/plain": [
       "HBox(children=(FloatProgress(value=0.0, description='frame', max=1358.0, style=ProgressStyle(description_width…"
      ]
     },
     "metadata": {},
     "output_type": "display_data"
    },
    {
     "data": {
      "application/vnd.jupyter.widget-view+json": {
       "model_id": "",
       "version_major": 2,
       "version_minor": 0
      },
      "text/plain": [
       "HBox(children=(FloatProgress(value=0.0, description='frame', max=1359.0, style=ProgressStyle(description_width…"
      ]
     },
     "metadata": {},
     "output_type": "display_data"
    },
    {
     "data": {
      "application/vnd.jupyter.widget-view+json": {
       "model_id": "",
       "version_major": 2,
       "version_minor": 0
      },
      "text/plain": [
       "HBox(children=(FloatProgress(value=0.0, description='frame', max=1344.0, style=ProgressStyle(description_width…"
      ]
     },
     "metadata": {},
     "output_type": "display_data"
    },
    {
     "data": {
      "application/vnd.jupyter.widget-view+json": {
       "model_id": "",
       "version_major": 2,
       "version_minor": 0
      },
      "text/plain": [
       "HBox(children=(FloatProgress(value=0.0, description='camera', max=8.0, style=ProgressStyle(description_width='…"
      ]
     },
     "metadata": {},
     "output_type": "display_data"
    },
    {
     "data": {
      "application/vnd.jupyter.widget-view+json": {
       "model_id": "",
       "version_major": 2,
       "version_minor": 0
      },
      "text/plain": [
       "HBox(children=(FloatProgress(value=0.0, description='frame', max=925.0, style=ProgressStyle(description_width=…"
      ]
     },
     "metadata": {},
     "output_type": "display_data"
    },
    {
     "data": {
      "application/vnd.jupyter.widget-view+json": {
       "model_id": "",
       "version_major": 2,
       "version_minor": 0
      },
      "text/plain": [
       "HBox(children=(FloatProgress(value=0.0, description='frame', max=911.0, style=ProgressStyle(description_width=…"
      ]
     },
     "metadata": {},
     "output_type": "display_data"
    },
    {
     "data": {
      "application/vnd.jupyter.widget-view+json": {
       "model_id": "",
       "version_major": 2,
       "version_minor": 0
      },
      "text/plain": [
       "HBox(children=(FloatProgress(value=0.0, description='frame', max=913.0, style=ProgressStyle(description_width=…"
      ]
     },
     "metadata": {},
     "output_type": "display_data"
    },
    {
     "data": {
      "application/vnd.jupyter.widget-view+json": {
       "model_id": "",
       "version_major": 2,
       "version_minor": 0
      },
      "text/plain": [
       "HBox(children=(FloatProgress(value=0.0, description='frame', max=897.0, style=ProgressStyle(description_width=…"
      ]
     },
     "metadata": {},
     "output_type": "display_data"
    },
    {
     "data": {
      "application/vnd.jupyter.widget-view+json": {
       "model_id": "",
       "version_major": 2,
       "version_minor": 0
      },
      "text/plain": [
       "HBox(children=(FloatProgress(value=0.0, description='frame', max=898.0, style=ProgressStyle(description_width=…"
      ]
     },
     "metadata": {},
     "output_type": "display_data"
    },
    {
     "data": {
      "application/vnd.jupyter.widget-view+json": {
       "model_id": "",
       "version_major": 2,
       "version_minor": 0
      },
      "text/plain": [
       "HBox(children=(FloatProgress(value=0.0, description='frame', max=914.0, style=ProgressStyle(description_width=…"
      ]
     },
     "metadata": {},
     "output_type": "display_data"
    },
    {
     "data": {
      "application/vnd.jupyter.widget-view+json": {
       "model_id": "",
       "version_major": 2,
       "version_minor": 0
      },
      "text/plain": [
       "HBox(children=(FloatProgress(value=0.0, description='frame', max=915.0, style=ProgressStyle(description_width=…"
      ]
     },
     "metadata": {},
     "output_type": "display_data"
    },
    {
     "data": {
      "application/vnd.jupyter.widget-view+json": {
       "model_id": "",
       "version_major": 2,
       "version_minor": 0
      },
      "text/plain": [
       "HBox(children=(FloatProgress(value=0.0, description='frame', max=917.0, style=ProgressStyle(description_width=…"
      ]
     },
     "metadata": {},
     "output_type": "display_data"
    },
    {
     "data": {
      "application/vnd.jupyter.widget-view+json": {
       "model_id": "",
       "version_major": 2,
       "version_minor": 0
      },
      "text/plain": [
       "HBox(children=(FloatProgress(value=0.0, description='camera', max=8.0, style=ProgressStyle(description_width='…"
      ]
     },
     "metadata": {},
     "output_type": "display_data"
    },
    {
     "data": {
      "application/vnd.jupyter.widget-view+json": {
       "model_id": "",
       "version_major": 2,
       "version_minor": 0
      },
      "text/plain": [
       "HBox(children=(FloatProgress(value=0.0, description='frame', max=712.0, style=ProgressStyle(description_width=…"
      ]
     },
     "metadata": {},
     "output_type": "display_data"
    },
    {
     "data": {
      "application/vnd.jupyter.widget-view+json": {
       "model_id": "",
       "version_major": 2,
       "version_minor": 0
      },
      "text/plain": [
       "HBox(children=(FloatProgress(value=0.0, description='frame', max=699.0, style=ProgressStyle(description_width=…"
      ]
     },
     "metadata": {},
     "output_type": "display_data"
    },
    {
     "data": {
      "application/vnd.jupyter.widget-view+json": {
       "model_id": "",
       "version_major": 2,
       "version_minor": 0
      },
      "text/plain": [
       "HBox(children=(FloatProgress(value=0.0, description='frame', max=620.0, style=ProgressStyle(description_width=…"
      ]
     },
     "metadata": {},
     "output_type": "display_data"
    },
    {
     "data": {
      "application/vnd.jupyter.widget-view+json": {
       "model_id": "",
       "version_major": 2,
       "version_minor": 0
      },
      "text/plain": [
       "HBox(children=(FloatProgress(value=0.0, description='frame', max=701.0, style=ProgressStyle(description_width=…"
      ]
     },
     "metadata": {},
     "output_type": "display_data"
    },
    {
     "data": {
      "application/vnd.jupyter.widget-view+json": {
       "model_id": "",
       "version_major": 2,
       "version_minor": 0
      },
      "text/plain": [
       "HBox(children=(FloatProgress(value=0.0, description='frame', max=684.0, style=ProgressStyle(description_width=…"
      ]
     },
     "metadata": {},
     "output_type": "display_data"
    },
    {
     "data": {
      "application/vnd.jupyter.widget-view+json": {
       "model_id": "",
       "version_major": 2,
       "version_minor": 0
      },
      "text/plain": [
       "HBox(children=(FloatProgress(value=0.0, description='frame', max=701.0, style=ProgressStyle(description_width=…"
      ]
     },
     "metadata": {},
     "output_type": "display_data"
    },
    {
     "data": {
      "application/vnd.jupyter.widget-view+json": {
       "model_id": "",
       "version_major": 2,
       "version_minor": 0
      },
      "text/plain": [
       "HBox(children=(FloatProgress(value=0.0, description='frame', max=702.0, style=ProgressStyle(description_width=…"
      ]
     },
     "metadata": {},
     "output_type": "display_data"
    },
    {
     "data": {
      "application/vnd.jupyter.widget-view+json": {
       "model_id": "",
       "version_major": 2,
       "version_minor": 0
      },
      "text/plain": [
       "HBox(children=(FloatProgress(value=0.0, description='frame', max=676.0, style=ProgressStyle(description_width=…"
      ]
     },
     "metadata": {},
     "output_type": "display_data"
    },
    {
     "data": {
      "application/vnd.jupyter.widget-view+json": {
       "model_id": "",
       "version_major": 2,
       "version_minor": 0
      },
      "text/plain": [
       "HBox(children=(FloatProgress(value=0.0, description='camera', max=8.0, style=ProgressStyle(description_width='…"
      ]
     },
     "metadata": {},
     "output_type": "display_data"
    },
    {
     "data": {
      "application/vnd.jupyter.widget-view+json": {
       "model_id": "",
       "version_major": 2,
       "version_minor": 0
      },
      "text/plain": [
       "HBox(children=(FloatProgress(value=0.0, description='frame', max=932.0, style=ProgressStyle(description_width=…"
      ]
     },
     "metadata": {},
     "output_type": "display_data"
    },
    {
     "data": {
      "application/vnd.jupyter.widget-view+json": {
       "model_id": "",
       "version_major": 2,
       "version_minor": 0
      },
      "text/plain": [
       "HBox(children=(FloatProgress(value=0.0, description='frame', max=923.0, style=ProgressStyle(description_width=…"
      ]
     },
     "metadata": {},
     "output_type": "display_data"
    },
    {
     "data": {
      "application/vnd.jupyter.widget-view+json": {
       "model_id": "",
       "version_major": 2,
       "version_minor": 0
      },
      "text/plain": [
       "HBox(children=(FloatProgress(value=0.0, description='frame', max=915.0, style=ProgressStyle(description_width=…"
      ]
     },
     "metadata": {},
     "output_type": "display_data"
    },
    {
     "data": {
      "application/vnd.jupyter.widget-view+json": {
       "model_id": "",
       "version_major": 2,
       "version_minor": 0
      },
      "text/plain": [
       "HBox(children=(FloatProgress(value=0.0, description='frame', max=933.0, style=ProgressStyle(description_width=…"
      ]
     },
     "metadata": {},
     "output_type": "display_data"
    },
    {
     "data": {
      "application/vnd.jupyter.widget-view+json": {
       "model_id": "",
       "version_major": 2,
       "version_minor": 0
      },
      "text/plain": [
       "HBox(children=(FloatProgress(value=0.0, description='frame', max=927.0, style=ProgressStyle(description_width=…"
      ]
     },
     "metadata": {},
     "output_type": "display_data"
    },
    {
     "data": {
      "application/vnd.jupyter.widget-view+json": {
       "model_id": "",
       "version_major": 2,
       "version_minor": 0
      },
      "text/plain": [
       "HBox(children=(FloatProgress(value=0.0, description='frame', max=925.0, style=ProgressStyle(description_width=…"
      ]
     },
     "metadata": {},
     "output_type": "display_data"
    },
    {
     "data": {
      "application/vnd.jupyter.widget-view+json": {
       "model_id": "",
       "version_major": 2,
       "version_minor": 0
      },
      "text/plain": [
       "HBox(children=(FloatProgress(value=0.0, description='frame', max=926.0, style=ProgressStyle(description_width=…"
      ]
     },
     "metadata": {},
     "output_type": "display_data"
    },
    {
     "data": {
      "application/vnd.jupyter.widget-view+json": {
       "model_id": "",
       "version_major": 2,
       "version_minor": 0
      },
      "text/plain": [
       "HBox(children=(FloatProgress(value=0.0, description='frame', max=914.0, style=ProgressStyle(description_width=…"
      ]
     },
     "metadata": {},
     "output_type": "display_data"
    },
    {
     "data": {
      "application/vnd.jupyter.widget-view+json": {
       "model_id": "",
       "version_major": 2,
       "version_minor": 0
      },
      "text/plain": [
       "HBox(children=(FloatProgress(value=0.0, description='camera', max=8.0, style=ProgressStyle(description_width='…"
      ]
     },
     "metadata": {},
     "output_type": "display_data"
    },
    {
     "data": {
      "application/vnd.jupyter.widget-view+json": {
       "model_id": "",
       "version_major": 2,
       "version_minor": 0
      },
      "text/plain": [
       "HBox(children=(FloatProgress(value=0.0, description='frame', max=942.0, style=ProgressStyle(description_width=…"
      ]
     },
     "metadata": {},
     "output_type": "display_data"
    },
    {
     "data": {
      "application/vnd.jupyter.widget-view+json": {
       "model_id": "",
       "version_major": 2,
       "version_minor": 0
      },
      "text/plain": [
       "HBox(children=(FloatProgress(value=0.0, description='frame', max=943.0, style=ProgressStyle(description_width=…"
      ]
     },
     "metadata": {},
     "output_type": "display_data"
    },
    {
     "data": {
      "application/vnd.jupyter.widget-view+json": {
       "model_id": "",
       "version_major": 2,
       "version_minor": 0
      },
      "text/plain": [
       "HBox(children=(FloatProgress(value=0.0, description='frame', max=947.0, style=ProgressStyle(description_width=…"
      ]
     },
     "metadata": {},
     "output_type": "display_data"
    },
    {
     "data": {
      "application/vnd.jupyter.widget-view+json": {
       "model_id": "",
       "version_major": 2,
       "version_minor": 0
      },
      "text/plain": [
       "HBox(children=(FloatProgress(value=0.0, description='frame', max=961.0, style=ProgressStyle(description_width=…"
      ]
     },
     "metadata": {},
     "output_type": "display_data"
    },
    {
     "data": {
      "application/vnd.jupyter.widget-view+json": {
       "model_id": "",
       "version_major": 2,
       "version_minor": 0
      },
      "text/plain": [
       "HBox(children=(FloatProgress(value=0.0, description='frame', max=940.0, style=ProgressStyle(description_width=…"
      ]
     },
     "metadata": {},
     "output_type": "display_data"
    },
    {
     "data": {
      "application/vnd.jupyter.widget-view+json": {
       "model_id": "",
       "version_major": 2,
       "version_minor": 0
      },
      "text/plain": [
       "HBox(children=(FloatProgress(value=0.0, description='frame', max=945.0, style=ProgressStyle(description_width=…"
      ]
     },
     "metadata": {},
     "output_type": "display_data"
    },
    {
     "data": {
      "application/vnd.jupyter.widget-view+json": {
       "model_id": "",
       "version_major": 2,
       "version_minor": 0
      },
      "text/plain": [
       "HBox(children=(FloatProgress(value=0.0, description='frame', max=947.0, style=ProgressStyle(description_width=…"
      ]
     },
     "metadata": {},
     "output_type": "display_data"
    },
    {
     "data": {
      "application/vnd.jupyter.widget-view+json": {
       "model_id": "",
       "version_major": 2,
       "version_minor": 0
      },
      "text/plain": [
       "HBox(children=(FloatProgress(value=0.0, description='frame', max=928.0, style=ProgressStyle(description_width=…"
      ]
     },
     "metadata": {},
     "output_type": "display_data"
    },
    {
     "data": {
      "application/vnd.jupyter.widget-view+json": {
       "model_id": "",
       "version_major": 2,
       "version_minor": 0
      },
      "text/plain": [
       "HBox(children=(FloatProgress(value=0.0, description='camera', max=8.0, style=ProgressStyle(description_width='…"
      ]
     },
     "metadata": {},
     "output_type": "display_data"
    },
    {
     "data": {
      "application/vnd.jupyter.widget-view+json": {
       "model_id": "",
       "version_major": 2,
       "version_minor": 0
      },
      "text/plain": [
       "HBox(children=(FloatProgress(value=0.0, description='frame', max=821.0, style=ProgressStyle(description_width=…"
      ]
     },
     "metadata": {},
     "output_type": "display_data"
    },
    {
     "data": {
      "application/vnd.jupyter.widget-view+json": {
       "model_id": "",
       "version_major": 2,
       "version_minor": 0
      },
      "text/plain": [
       "HBox(children=(FloatProgress(value=0.0, description='frame', max=802.0, style=ProgressStyle(description_width=…"
      ]
     },
     "metadata": {},
     "output_type": "display_data"
    },
    {
     "data": {
      "application/vnd.jupyter.widget-view+json": {
       "model_id": "",
       "version_major": 2,
       "version_minor": 0
      },
      "text/plain": [
       "HBox(children=(FloatProgress(value=0.0, description='frame', max=818.0, style=ProgressStyle(description_width=…"
      ]
     },
     "metadata": {},
     "output_type": "display_data"
    },
    {
     "data": {
      "application/vnd.jupyter.widget-view+json": {
       "model_id": "",
       "version_major": 2,
       "version_minor": 0
      },
      "text/plain": [
       "HBox(children=(FloatProgress(value=0.0, description='frame', max=812.0, style=ProgressStyle(description_width=…"
      ]
     },
     "metadata": {},
     "output_type": "display_data"
    },
    {
     "data": {
      "application/vnd.jupyter.widget-view+json": {
       "model_id": "",
       "version_major": 2,
       "version_minor": 0
      },
      "text/plain": [
       "HBox(children=(FloatProgress(value=0.0, description='frame', max=798.0, style=ProgressStyle(description_width=…"
      ]
     },
     "metadata": {},
     "output_type": "display_data"
    },
    {
     "data": {
      "application/vnd.jupyter.widget-view+json": {
       "model_id": "",
       "version_major": 2,
       "version_minor": 0
      },
      "text/plain": [
       "HBox(children=(FloatProgress(value=0.0, description='frame', max=804.0, style=ProgressStyle(description_width=…"
      ]
     },
     "metadata": {},
     "output_type": "display_data"
    },
    {
     "data": {
      "application/vnd.jupyter.widget-view+json": {
       "model_id": "",
       "version_major": 2,
       "version_minor": 0
      },
      "text/plain": [
       "HBox(children=(FloatProgress(value=0.0, description='frame', max=805.0, style=ProgressStyle(description_width=…"
      ]
     },
     "metadata": {},
     "output_type": "display_data"
    },
    {
     "data": {
      "application/vnd.jupyter.widget-view+json": {
       "model_id": "",
       "version_major": 2,
       "version_minor": 0
      },
      "text/plain": [
       "HBox(children=(FloatProgress(value=0.0, description='frame', max=810.0, style=ProgressStyle(description_width=…"
      ]
     },
     "metadata": {},
     "output_type": "display_data"
    },
    {
     "data": {
      "application/vnd.jupyter.widget-view+json": {
       "model_id": "",
       "version_major": 2,
       "version_minor": 0
      },
      "text/plain": [
       "HBox(children=(FloatProgress(value=0.0, description='camera', max=8.0, style=ProgressStyle(description_width='…"
      ]
     },
     "metadata": {},
     "output_type": "display_data"
    },
    {
     "data": {
      "application/vnd.jupyter.widget-view+json": {
       "model_id": "",
       "version_major": 2,
       "version_minor": 0
      },
      "text/plain": [
       "HBox(children=(FloatProgress(value=0.0, description='frame', max=936.0, style=ProgressStyle(description_width=…"
      ]
     },
     "metadata": {},
     "output_type": "display_data"
    },
    {
     "data": {
      "application/vnd.jupyter.widget-view+json": {
       "model_id": "",
       "version_major": 2,
       "version_minor": 0
      },
      "text/plain": [
       "HBox(children=(FloatProgress(value=0.0, description='frame', max=921.0, style=ProgressStyle(description_width=…"
      ]
     },
     "metadata": {},
     "output_type": "display_data"
    },
    {
     "data": {
      "application/vnd.jupyter.widget-view+json": {
       "model_id": "",
       "version_major": 2,
       "version_minor": 0
      },
      "text/plain": [
       "HBox(children=(FloatProgress(value=0.0, description='frame', max=928.0, style=ProgressStyle(description_width=…"
      ]
     },
     "metadata": {},
     "output_type": "display_data"
    },
    {
     "data": {
      "application/vnd.jupyter.widget-view+json": {
       "model_id": "",
       "version_major": 2,
       "version_minor": 0
      },
      "text/plain": [
       "HBox(children=(FloatProgress(value=0.0, description='frame', max=923.0, style=ProgressStyle(description_width=…"
      ]
     },
     "metadata": {},
     "output_type": "display_data"
    },
    {
     "data": {
      "application/vnd.jupyter.widget-view+json": {
       "model_id": "",
       "version_major": 2,
       "version_minor": 0
      },
      "text/plain": [
       "HBox(children=(FloatProgress(value=0.0, description='frame', max=915.0, style=ProgressStyle(description_width=…"
      ]
     },
     "metadata": {},
     "output_type": "display_data"
    },
    {
     "data": {
      "application/vnd.jupyter.widget-view+json": {
       "model_id": "",
       "version_major": 2,
       "version_minor": 0
      },
      "text/plain": [
       "HBox(children=(FloatProgress(value=0.0, description='frame', max=918.0, style=ProgressStyle(description_width=…"
      ]
     },
     "metadata": {},
     "output_type": "display_data"
    },
    {
     "data": {
      "application/vnd.jupyter.widget-view+json": {
       "model_id": "",
       "version_major": 2,
       "version_minor": 0
      },
      "text/plain": [
       "HBox(children=(FloatProgress(value=0.0, description='frame', max=922.0, style=ProgressStyle(description_width=…"
      ]
     },
     "metadata": {},
     "output_type": "display_data"
    },
    {
     "data": {
      "application/vnd.jupyter.widget-view+json": {
       "model_id": "",
       "version_major": 2,
       "version_minor": 0
      },
      "text/plain": [
       "HBox(children=(FloatProgress(value=0.0, description='frame', max=915.0, style=ProgressStyle(description_width=…"
      ]
     },
     "metadata": {},
     "output_type": "display_data"
    },
    {
     "data": {
      "application/vnd.jupyter.widget-view+json": {
       "model_id": "",
       "version_major": 2,
       "version_minor": 0
      },
      "text/plain": [
       "HBox(children=(FloatProgress(value=0.0, description='camera', max=8.0, style=ProgressStyle(description_width='…"
      ]
     },
     "metadata": {},
     "output_type": "display_data"
    },
    {
     "data": {
      "application/vnd.jupyter.widget-view+json": {
       "model_id": "",
       "version_major": 2,
       "version_minor": 0
      },
      "text/plain": [
       "HBox(children=(FloatProgress(value=0.0, description='frame', max=1205.0, style=ProgressStyle(description_width…"
      ]
     },
     "metadata": {},
     "output_type": "display_data"
    },
    {
     "data": {
      "application/vnd.jupyter.widget-view+json": {
       "model_id": "",
       "version_major": 2,
       "version_minor": 0
      },
      "text/plain": [
       "HBox(children=(FloatProgress(value=0.0, description='frame', max=1222.0, style=ProgressStyle(description_width…"
      ]
     },
     "metadata": {},
     "output_type": "display_data"
    },
    {
     "data": {
      "application/vnd.jupyter.widget-view+json": {
       "model_id": "",
       "version_major": 2,
       "version_minor": 0
      },
      "text/plain": [
       "HBox(children=(FloatProgress(value=0.0, description='frame', max=1189.0, style=ProgressStyle(description_width…"
      ]
     },
     "metadata": {},
     "output_type": "display_data"
    },
    {
     "data": {
      "application/vnd.jupyter.widget-view+json": {
       "model_id": "",
       "version_major": 2,
       "version_minor": 0
      },
      "text/plain": [
       "HBox(children=(FloatProgress(value=0.0, description='frame', max=1196.0, style=ProgressStyle(description_width…"
      ]
     },
     "metadata": {},
     "output_type": "display_data"
    },
    {
     "data": {
      "application/vnd.jupyter.widget-view+json": {
       "model_id": "",
       "version_major": 2,
       "version_minor": 0
      },
      "text/plain": [
       "HBox(children=(FloatProgress(value=0.0, description='frame', max=1216.0, style=ProgressStyle(description_width…"
      ]
     },
     "metadata": {},
     "output_type": "display_data"
    },
    {
     "data": {
      "application/vnd.jupyter.widget-view+json": {
       "model_id": "",
       "version_major": 2,
       "version_minor": 0
      },
      "text/plain": [
       "HBox(children=(FloatProgress(value=0.0, description='frame', max=1216.0, style=ProgressStyle(description_width…"
      ]
     },
     "metadata": {},
     "output_type": "display_data"
    },
    {
     "data": {
      "application/vnd.jupyter.widget-view+json": {
       "model_id": "",
       "version_major": 2,
       "version_minor": 0
      },
      "text/plain": [
       "HBox(children=(FloatProgress(value=0.0, description='frame', max=1225.0, style=ProgressStyle(description_width…"
      ]
     },
     "metadata": {},
     "output_type": "display_data"
    },
    {
     "data": {
      "application/vnd.jupyter.widget-view+json": {
       "model_id": "",
       "version_major": 2,
       "version_minor": 0
      },
      "text/plain": [
       "HBox(children=(FloatProgress(value=0.0, description='frame', max=1202.0, style=ProgressStyle(description_width…"
      ]
     },
     "metadata": {},
     "output_type": "display_data"
    },
    {
     "data": {
      "application/vnd.jupyter.widget-view+json": {
       "model_id": "",
       "version_major": 2,
       "version_minor": 0
      },
      "text/plain": [
       "HBox(children=(FloatProgress(value=0.0, description='camera', max=8.0, style=ProgressStyle(description_width='…"
      ]
     },
     "metadata": {},
     "output_type": "display_data"
    },
    {
     "data": {
      "application/vnd.jupyter.widget-view+json": {
       "model_id": "",
       "version_major": 2,
       "version_minor": 0
      },
      "text/plain": [
       "HBox(children=(FloatProgress(value=0.0, description='frame', max=1498.0, style=ProgressStyle(description_width…"
      ]
     },
     "metadata": {},
     "output_type": "display_data"
    },
    {
     "data": {
      "application/vnd.jupyter.widget-view+json": {
       "model_id": "",
       "version_major": 2,
       "version_minor": 0
      },
      "text/plain": [
       "HBox(children=(FloatProgress(value=0.0, description='frame', max=1485.0, style=ProgressStyle(description_width…"
      ]
     },
     "metadata": {},
     "output_type": "display_data"
    },
    {
     "data": {
      "application/vnd.jupyter.widget-view+json": {
       "model_id": "",
       "version_major": 2,
       "version_minor": 0
      },
      "text/plain": [
       "HBox(children=(FloatProgress(value=0.0, description='frame', max=1487.0, style=ProgressStyle(description_width…"
      ]
     },
     "metadata": {},
     "output_type": "display_data"
    },
    {
     "data": {
      "application/vnd.jupyter.widget-view+json": {
       "model_id": "",
       "version_major": 2,
       "version_minor": 0
      },
      "text/plain": [
       "HBox(children=(FloatProgress(value=0.0, description='frame', max=1449.0, style=ProgressStyle(description_width…"
      ]
     },
     "metadata": {},
     "output_type": "display_data"
    },
    {
     "data": {
      "application/vnd.jupyter.widget-view+json": {
       "model_id": "",
       "version_major": 2,
       "version_minor": 0
      },
      "text/plain": [
       "HBox(children=(FloatProgress(value=0.0, description='frame', max=1478.0, style=ProgressStyle(description_width…"
      ]
     },
     "metadata": {},
     "output_type": "display_data"
    },
    {
     "data": {
      "application/vnd.jupyter.widget-view+json": {
       "model_id": "",
       "version_major": 2,
       "version_minor": 0
      },
      "text/plain": [
       "HBox(children=(FloatProgress(value=0.0, description='frame', max=1478.0, style=ProgressStyle(description_width…"
      ]
     },
     "metadata": {},
     "output_type": "display_data"
    },
    {
     "data": {
      "application/vnd.jupyter.widget-view+json": {
       "model_id": "",
       "version_major": 2,
       "version_minor": 0
      },
      "text/plain": [
       "HBox(children=(FloatProgress(value=0.0, description='frame', max=1456.0, style=ProgressStyle(description_width…"
      ]
     },
     "metadata": {},
     "output_type": "display_data"
    },
    {
     "data": {
      "application/vnd.jupyter.widget-view+json": {
       "model_id": "",
       "version_major": 2,
       "version_minor": 0
      },
      "text/plain": [
       "HBox(children=(FloatProgress(value=0.0, description='frame', max=1463.0, style=ProgressStyle(description_width…"
      ]
     },
     "metadata": {},
     "output_type": "display_data"
    },
    {
     "data": {
      "application/vnd.jupyter.widget-view+json": {
       "model_id": "",
       "version_major": 2,
       "version_minor": 0
      },
      "text/plain": [
       "HBox(children=(FloatProgress(value=0.0, description='camera', max=8.0, style=ProgressStyle(description_width='…"
      ]
     },
     "metadata": {},
     "output_type": "display_data"
    },
    {
     "data": {
      "application/vnd.jupyter.widget-view+json": {
       "model_id": "",
       "version_major": 2,
       "version_minor": 0
      },
      "text/plain": [
       "HBox(children=(FloatProgress(value=0.0, description='frame', max=1085.0, style=ProgressStyle(description_width…"
      ]
     },
     "metadata": {},
     "output_type": "display_data"
    },
    {
     "data": {
      "application/vnd.jupyter.widget-view+json": {
       "model_id": "",
       "version_major": 2,
       "version_minor": 0
      },
      "text/plain": [
       "HBox(children=(FloatProgress(value=0.0, description='frame', max=1089.0, style=ProgressStyle(description_width…"
      ]
     },
     "metadata": {},
     "output_type": "display_data"
    },
    {
     "data": {
      "application/vnd.jupyter.widget-view+json": {
       "model_id": "",
       "version_major": 2,
       "version_minor": 0
      },
      "text/plain": [
       "HBox(children=(FloatProgress(value=0.0, description='frame', max=1089.0, style=ProgressStyle(description_width…"
      ]
     },
     "metadata": {},
     "output_type": "display_data"
    },
    {
     "data": {
      "application/vnd.jupyter.widget-view+json": {
       "model_id": "",
       "version_major": 2,
       "version_minor": 0
      },
      "text/plain": [
       "HBox(children=(FloatProgress(value=0.0, description='frame', max=1085.0, style=ProgressStyle(description_width…"
      ]
     },
     "metadata": {},
     "output_type": "display_data"
    },
    {
     "data": {
      "application/vnd.jupyter.widget-view+json": {
       "model_id": "",
       "version_major": 2,
       "version_minor": 0
      },
      "text/plain": [
       "HBox(children=(FloatProgress(value=0.0, description='frame', max=1104.0, style=ProgressStyle(description_width…"
      ]
     },
     "metadata": {},
     "output_type": "display_data"
    },
    {
     "data": {
      "application/vnd.jupyter.widget-view+json": {
       "model_id": "",
       "version_major": 2,
       "version_minor": 0
      },
      "text/plain": [
       "HBox(children=(FloatProgress(value=0.0, description='frame', max=1110.0, style=ProgressStyle(description_width…"
      ]
     },
     "metadata": {},
     "output_type": "display_data"
    },
    {
     "data": {
      "application/vnd.jupyter.widget-view+json": {
       "model_id": "",
       "version_major": 2,
       "version_minor": 0
      },
      "text/plain": [
       "HBox(children=(FloatProgress(value=0.0, description='frame', max=1093.0, style=ProgressStyle(description_width…"
      ]
     },
     "metadata": {},
     "output_type": "display_data"
    },
    {
     "data": {
      "application/vnd.jupyter.widget-view+json": {
       "model_id": "",
       "version_major": 2,
       "version_minor": 0
      },
      "text/plain": [
       "HBox(children=(FloatProgress(value=0.0, description='frame', max=1070.0, style=ProgressStyle(description_width…"
      ]
     },
     "metadata": {},
     "output_type": "display_data"
    },
    {
     "data": {
      "application/vnd.jupyter.widget-view+json": {
       "model_id": "",
       "version_major": 2,
       "version_minor": 0
      },
      "text/plain": [
       "HBox(children=(FloatProgress(value=0.0, description='camera', max=8.0, style=ProgressStyle(description_width='…"
      ]
     },
     "metadata": {},
     "output_type": "display_data"
    },
    {
     "data": {
      "application/vnd.jupyter.widget-view+json": {
       "model_id": "",
       "version_major": 2,
       "version_minor": 0
      },
      "text/plain": [
       "HBox(children=(FloatProgress(value=0.0, description='frame', max=1233.0, style=ProgressStyle(description_width…"
      ]
     },
     "metadata": {},
     "output_type": "display_data"
    },
    {
     "data": {
      "application/vnd.jupyter.widget-view+json": {
       "model_id": "",
       "version_major": 2,
       "version_minor": 0
      },
      "text/plain": [
       "HBox(children=(FloatProgress(value=0.0, description='frame', max=1239.0, style=ProgressStyle(description_width…"
      ]
     },
     "metadata": {},
     "output_type": "display_data"
    },
    {
     "data": {
      "application/vnd.jupyter.widget-view+json": {
       "model_id": "",
       "version_major": 2,
       "version_minor": 0
      },
      "text/plain": [
       "HBox(children=(FloatProgress(value=0.0, description='frame', max=1210.0, style=ProgressStyle(description_width…"
      ]
     },
     "metadata": {},
     "output_type": "display_data"
    },
    {
     "data": {
      "application/vnd.jupyter.widget-view+json": {
       "model_id": "",
       "version_major": 2,
       "version_minor": 0
      },
      "text/plain": [
       "HBox(children=(FloatProgress(value=0.0, description='frame', max=1212.0, style=ProgressStyle(description_width…"
      ]
     },
     "metadata": {},
     "output_type": "display_data"
    },
    {
     "data": {
      "application/vnd.jupyter.widget-view+json": {
       "model_id": "",
       "version_major": 2,
       "version_minor": 0
      },
      "text/plain": [
       "HBox(children=(FloatProgress(value=0.0, description='frame', max=1222.0, style=ProgressStyle(description_width…"
      ]
     },
     "metadata": {},
     "output_type": "display_data"
    },
    {
     "data": {
      "application/vnd.jupyter.widget-view+json": {
       "model_id": "",
       "version_major": 2,
       "version_minor": 0
      },
      "text/plain": [
       "HBox(children=(FloatProgress(value=0.0, description='frame', max=1219.0, style=ProgressStyle(description_width…"
      ]
     },
     "metadata": {},
     "output_type": "display_data"
    },
    {
     "data": {
      "application/vnd.jupyter.widget-view+json": {
       "model_id": "",
       "version_major": 2,
       "version_minor": 0
      },
      "text/plain": [
       "HBox(children=(FloatProgress(value=0.0, description='frame', max=1213.0, style=ProgressStyle(description_width…"
      ]
     },
     "metadata": {},
     "output_type": "display_data"
    },
    {
     "data": {
      "application/vnd.jupyter.widget-view+json": {
       "model_id": "",
       "version_major": 2,
       "version_minor": 0
      },
      "text/plain": [
       "HBox(children=(FloatProgress(value=0.0, description='frame', max=1213.0, style=ProgressStyle(description_width…"
      ]
     },
     "metadata": {},
     "output_type": "display_data"
    },
    {
     "data": {
      "application/vnd.jupyter.widget-view+json": {
       "model_id": "",
       "version_major": 2,
       "version_minor": 0
      },
      "text/plain": [
       "HBox(children=(FloatProgress(value=0.0, description='camera', max=8.0, style=ProgressStyle(description_width='…"
      ]
     },
     "metadata": {},
     "output_type": "display_data"
    },
    {
     "data": {
      "application/vnd.jupyter.widget-view+json": {
       "model_id": "",
       "version_major": 2,
       "version_minor": 0
      },
      "text/plain": [
       "HBox(children=(FloatProgress(value=0.0, description='frame', max=1538.0, style=ProgressStyle(description_width…"
      ]
     },
     "metadata": {},
     "output_type": "display_data"
    },
    {
     "data": {
      "application/vnd.jupyter.widget-view+json": {
       "model_id": "",
       "version_major": 2,
       "version_minor": 0
      },
      "text/plain": [
       "HBox(children=(FloatProgress(value=0.0, description='frame', max=1543.0, style=ProgressStyle(description_width…"
      ]
     },
     "metadata": {},
     "output_type": "display_data"
    },
    {
     "data": {
      "application/vnd.jupyter.widget-view+json": {
       "model_id": "",
       "version_major": 2,
       "version_minor": 0
      },
      "text/plain": [
       "HBox(children=(FloatProgress(value=0.0, description='frame', max=1532.0, style=ProgressStyle(description_width…"
      ]
     },
     "metadata": {},
     "output_type": "display_data"
    },
    {
     "data": {
      "application/vnd.jupyter.widget-view+json": {
       "model_id": "",
       "version_major": 2,
       "version_minor": 0
      },
      "text/plain": [
       "HBox(children=(FloatProgress(value=0.0, description='frame', max=1517.0, style=ProgressStyle(description_width…"
      ]
     },
     "metadata": {},
     "output_type": "display_data"
    },
    {
     "data": {
      "application/vnd.jupyter.widget-view+json": {
       "model_id": "",
       "version_major": 2,
       "version_minor": 0
      },
      "text/plain": [
       "HBox(children=(FloatProgress(value=0.0, description='frame', max=1527.0, style=ProgressStyle(description_width…"
      ]
     },
     "metadata": {},
     "output_type": "display_data"
    },
    {
     "data": {
      "application/vnd.jupyter.widget-view+json": {
       "model_id": "",
       "version_major": 2,
       "version_minor": 0
      },
      "text/plain": [
       "HBox(children=(FloatProgress(value=0.0, description='frame', max=1517.0, style=ProgressStyle(description_width…"
      ]
     },
     "metadata": {},
     "output_type": "display_data"
    },
    {
     "data": {
      "application/vnd.jupyter.widget-view+json": {
       "model_id": "",
       "version_major": 2,
       "version_minor": 0
      },
      "text/plain": [
       "HBox(children=(FloatProgress(value=0.0, description='frame', max=1546.0, style=ProgressStyle(description_width…"
      ]
     },
     "metadata": {},
     "output_type": "display_data"
    },
    {
     "data": {
      "application/vnd.jupyter.widget-view+json": {
       "model_id": "",
       "version_major": 2,
       "version_minor": 0
      },
      "text/plain": [
       "HBox(children=(FloatProgress(value=0.0, description='frame', max=1535.0, style=ProgressStyle(description_width…"
      ]
     },
     "metadata": {},
     "output_type": "display_data"
    },
    {
     "data": {
      "application/vnd.jupyter.widget-view+json": {
       "model_id": "",
       "version_major": 2,
       "version_minor": 0
      },
      "text/plain": [
       "HBox(children=(FloatProgress(value=0.0, description='camera', max=8.0, style=ProgressStyle(description_width='…"
      ]
     },
     "metadata": {},
     "output_type": "display_data"
    },
    {
     "data": {
      "application/vnd.jupyter.widget-view+json": {
       "model_id": "",
       "version_major": 2,
       "version_minor": 0
      },
      "text/plain": [
       "HBox(children=(FloatProgress(value=0.0, description='frame', max=1000.0, style=ProgressStyle(description_width…"
      ]
     },
     "metadata": {},
     "output_type": "display_data"
    },
    {
     "data": {
      "application/vnd.jupyter.widget-view+json": {
       "model_id": "",
       "version_major": 2,
       "version_minor": 0
      },
      "text/plain": [
       "HBox(children=(FloatProgress(value=0.0, description='frame', max=1006.0, style=ProgressStyle(description_width…"
      ]
     },
     "metadata": {},
     "output_type": "display_data"
    },
    {
     "data": {
      "application/vnd.jupyter.widget-view+json": {
       "model_id": "",
       "version_major": 2,
       "version_minor": 0
      },
      "text/plain": [
       "HBox(children=(FloatProgress(value=0.0, description='frame', max=987.0, style=ProgressStyle(description_width=…"
      ]
     },
     "metadata": {},
     "output_type": "display_data"
    },
    {
     "data": {
      "application/vnd.jupyter.widget-view+json": {
       "model_id": "",
       "version_major": 2,
       "version_minor": 0
      },
      "text/plain": [
       "HBox(children=(FloatProgress(value=0.0, description='frame', max=901.0, style=ProgressStyle(description_width=…"
      ]
     },
     "metadata": {},
     "output_type": "display_data"
    },
    {
     "data": {
      "application/vnd.jupyter.widget-view+json": {
       "model_id": "",
       "version_major": 2,
       "version_minor": 0
      },
      "text/plain": [
       "HBox(children=(FloatProgress(value=0.0, description='frame', max=985.0, style=ProgressStyle(description_width=…"
      ]
     },
     "metadata": {},
     "output_type": "display_data"
    },
    {
     "data": {
      "application/vnd.jupyter.widget-view+json": {
       "model_id": "",
       "version_major": 2,
       "version_minor": 0
      },
      "text/plain": [
       "HBox(children=(FloatProgress(value=0.0, description='frame', max=1009.0, style=ProgressStyle(description_width…"
      ]
     },
     "metadata": {},
     "output_type": "display_data"
    },
    {
     "data": {
      "application/vnd.jupyter.widget-view+json": {
       "model_id": "",
       "version_major": 2,
       "version_minor": 0
      },
      "text/plain": [
       "HBox(children=(FloatProgress(value=0.0, description='frame', max=1010.0, style=ProgressStyle(description_width…"
      ]
     },
     "metadata": {},
     "output_type": "display_data"
    },
    {
     "data": {
      "application/vnd.jupyter.widget-view+json": {
       "model_id": "",
       "version_major": 2,
       "version_minor": 0
      },
      "text/plain": [
       "HBox(children=(FloatProgress(value=0.0, description='frame', max=978.0, style=ProgressStyle(description_width=…"
      ]
     },
     "metadata": {},
     "output_type": "display_data"
    },
    {
     "data": {
      "application/vnd.jupyter.widget-view+json": {
       "model_id": "",
       "version_major": 2,
       "version_minor": 0
      },
      "text/plain": [
       "HBox(children=(FloatProgress(value=0.0, description='camera', max=8.0, style=ProgressStyle(description_width='…"
      ]
     },
     "metadata": {},
     "output_type": "display_data"
    },
    {
     "data": {
      "application/vnd.jupyter.widget-view+json": {
       "model_id": "",
       "version_major": 2,
       "version_minor": 0
      },
      "text/plain": [
       "HBox(children=(FloatProgress(value=0.0, description='frame', max=1015.0, style=ProgressStyle(description_width…"
      ]
     },
     "metadata": {},
     "output_type": "display_data"
    },
    {
     "data": {
      "application/vnd.jupyter.widget-view+json": {
       "model_id": "",
       "version_major": 2,
       "version_minor": 0
      },
      "text/plain": [
       "HBox(children=(FloatProgress(value=0.0, description='frame', max=1023.0, style=ProgressStyle(description_width…"
      ]
     },
     "metadata": {},
     "output_type": "display_data"
    },
    {
     "data": {
      "application/vnd.jupyter.widget-view+json": {
       "model_id": "",
       "version_major": 2,
       "version_minor": 0
      },
      "text/plain": [
       "HBox(children=(FloatProgress(value=0.0, description='frame', max=1012.0, style=ProgressStyle(description_width…"
      ]
     },
     "metadata": {},
     "output_type": "display_data"
    },
    {
     "data": {
      "application/vnd.jupyter.widget-view+json": {
       "model_id": "",
       "version_major": 2,
       "version_minor": 0
      },
      "text/plain": [
       "HBox(children=(FloatProgress(value=0.0, description='frame', max=1015.0, style=ProgressStyle(description_width…"
      ]
     },
     "metadata": {},
     "output_type": "display_data"
    },
    {
     "data": {
      "application/vnd.jupyter.widget-view+json": {
       "model_id": "",
       "version_major": 2,
       "version_minor": 0
      },
      "text/plain": [
       "HBox(children=(FloatProgress(value=0.0, description='frame', max=1001.0, style=ProgressStyle(description_width…"
      ]
     },
     "metadata": {},
     "output_type": "display_data"
    },
    {
     "data": {
      "application/vnd.jupyter.widget-view+json": {
       "model_id": "",
       "version_major": 2,
       "version_minor": 0
      },
      "text/plain": [
       "HBox(children=(FloatProgress(value=0.0, description='frame', max=1025.0, style=ProgressStyle(description_width…"
      ]
     },
     "metadata": {},
     "output_type": "display_data"
    },
    {
     "data": {
      "application/vnd.jupyter.widget-view+json": {
       "model_id": "",
       "version_major": 2,
       "version_minor": 0
      },
      "text/plain": [
       "HBox(children=(FloatProgress(value=0.0, description='frame', max=996.0, style=ProgressStyle(description_width=…"
      ]
     },
     "metadata": {},
     "output_type": "display_data"
    },
    {
     "data": {
      "application/vnd.jupyter.widget-view+json": {
       "model_id": "",
       "version_major": 2,
       "version_minor": 0
      },
      "text/plain": [
       "HBox(children=(FloatProgress(value=0.0, description='frame', max=1016.0, style=ProgressStyle(description_width…"
      ]
     },
     "metadata": {},
     "output_type": "display_data"
    },
    {
     "data": {
      "application/vnd.jupyter.widget-view+json": {
       "model_id": "",
       "version_major": 2,
       "version_minor": 0
      },
      "text/plain": [
       "HBox(children=(FloatProgress(value=0.0, description='camera', max=8.0, style=ProgressStyle(description_width='…"
      ]
     },
     "metadata": {},
     "output_type": "display_data"
    },
    {
     "data": {
      "application/vnd.jupyter.widget-view+json": {
       "model_id": "",
       "version_major": 2,
       "version_minor": 0
      },
      "text/plain": [
       "HBox(children=(FloatProgress(value=0.0, description='frame', max=1007.0, style=ProgressStyle(description_width…"
      ]
     },
     "metadata": {},
     "output_type": "display_data"
    },
    {
     "data": {
      "application/vnd.jupyter.widget-view+json": {
       "model_id": "",
       "version_major": 2,
       "version_minor": 0
      },
      "text/plain": [
       "HBox(children=(FloatProgress(value=0.0, description='frame', max=991.0, style=ProgressStyle(description_width=…"
      ]
     },
     "metadata": {},
     "output_type": "display_data"
    },
    {
     "data": {
      "application/vnd.jupyter.widget-view+json": {
       "model_id": "",
       "version_major": 2,
       "version_minor": 0
      },
      "text/plain": [
       "HBox(children=(FloatProgress(value=0.0, description='frame', max=985.0, style=ProgressStyle(description_width=…"
      ]
     },
     "metadata": {},
     "output_type": "display_data"
    },
    {
     "data": {
      "application/vnd.jupyter.widget-view+json": {
       "model_id": "",
       "version_major": 2,
       "version_minor": 0
      },
      "text/plain": [
       "HBox(children=(FloatProgress(value=0.0, description='frame', max=992.0, style=ProgressStyle(description_width=…"
      ]
     },
     "metadata": {},
     "output_type": "display_data"
    },
    {
     "data": {
      "application/vnd.jupyter.widget-view+json": {
       "model_id": "",
       "version_major": 2,
       "version_minor": 0
      },
      "text/plain": [
       "HBox(children=(FloatProgress(value=0.0, description='frame', max=992.0, style=ProgressStyle(description_width=…"
      ]
     },
     "metadata": {},
     "output_type": "display_data"
    },
    {
     "data": {
      "application/vnd.jupyter.widget-view+json": {
       "model_id": "",
       "version_major": 2,
       "version_minor": 0
      },
      "text/plain": [
       "HBox(children=(FloatProgress(value=0.0, description='frame', max=986.0, style=ProgressStyle(description_width=…"
      ]
     },
     "metadata": {},
     "output_type": "display_data"
    },
    {
     "data": {
      "application/vnd.jupyter.widget-view+json": {
       "model_id": "",
       "version_major": 2,
       "version_minor": 0
      },
      "text/plain": [
       "HBox(children=(FloatProgress(value=0.0, description='frame', max=987.0, style=ProgressStyle(description_width=…"
      ]
     },
     "metadata": {},
     "output_type": "display_data"
    },
    {
     "data": {
      "application/vnd.jupyter.widget-view+json": {
       "model_id": "",
       "version_major": 2,
       "version_minor": 0
      },
      "text/plain": [
       "HBox(children=(FloatProgress(value=0.0, description='frame', max=982.0, style=ProgressStyle(description_width=…"
      ]
     },
     "metadata": {},
     "output_type": "display_data"
    },
    {
     "data": {
      "application/vnd.jupyter.widget-view+json": {
       "model_id": "",
       "version_major": 2,
       "version_minor": 0
      },
      "text/plain": [
       "HBox(children=(FloatProgress(value=0.0, description='camera', max=8.0, style=ProgressStyle(description_width='…"
      ]
     },
     "metadata": {},
     "output_type": "display_data"
    },
    {
     "data": {
      "application/vnd.jupyter.widget-view+json": {
       "model_id": "",
       "version_major": 2,
       "version_minor": 0
      },
      "text/plain": [
       "HBox(children=(FloatProgress(value=0.0, description='frame', max=1206.0, style=ProgressStyle(description_width…"
      ]
     },
     "metadata": {},
     "output_type": "display_data"
    },
    {
     "data": {
      "application/vnd.jupyter.widget-view+json": {
       "model_id": "",
       "version_major": 2,
       "version_minor": 0
      },
      "text/plain": [
       "HBox(children=(FloatProgress(value=0.0, description='frame', max=1216.0, style=ProgressStyle(description_width…"
      ]
     },
     "metadata": {},
     "output_type": "display_data"
    },
    {
     "data": {
      "application/vnd.jupyter.widget-view+json": {
       "model_id": "",
       "version_major": 2,
       "version_minor": 0
      },
      "text/plain": [
       "HBox(children=(FloatProgress(value=0.0, description='frame', max=1208.0, style=ProgressStyle(description_width…"
      ]
     },
     "metadata": {},
     "output_type": "display_data"
    },
    {
     "data": {
      "application/vnd.jupyter.widget-view+json": {
       "model_id": "",
       "version_major": 2,
       "version_minor": 0
      },
      "text/plain": [
       "HBox(children=(FloatProgress(value=0.0, description='frame', max=1189.0, style=ProgressStyle(description_width…"
      ]
     },
     "metadata": {},
     "output_type": "display_data"
    },
    {
     "data": {
      "application/vnd.jupyter.widget-view+json": {
       "model_id": "",
       "version_major": 2,
       "version_minor": 0
      },
      "text/plain": [
       "HBox(children=(FloatProgress(value=0.0, description='frame', max=1194.0, style=ProgressStyle(description_width…"
      ]
     },
     "metadata": {},
     "output_type": "display_data"
    },
    {
     "data": {
      "application/vnd.jupyter.widget-view+json": {
       "model_id": "",
       "version_major": 2,
       "version_minor": 0
      },
      "text/plain": [
       "HBox(children=(FloatProgress(value=0.0, description='frame', max=1219.0, style=ProgressStyle(description_width…"
      ]
     },
     "metadata": {},
     "output_type": "display_data"
    },
    {
     "data": {
      "application/vnd.jupyter.widget-view+json": {
       "model_id": "",
       "version_major": 2,
       "version_minor": 0
      },
      "text/plain": [
       "HBox(children=(FloatProgress(value=0.0, description='frame', max=1218.0, style=ProgressStyle(description_width…"
      ]
     },
     "metadata": {},
     "output_type": "display_data"
    },
    {
     "data": {
      "application/vnd.jupyter.widget-view+json": {
       "model_id": "",
       "version_major": 2,
       "version_minor": 0
      },
      "text/plain": [
       "HBox(children=(FloatProgress(value=0.0, description='frame', max=1186.0, style=ProgressStyle(description_width…"
      ]
     },
     "metadata": {},
     "output_type": "display_data"
    },
    {
     "data": {
      "application/vnd.jupyter.widget-view+json": {
       "model_id": "",
       "version_major": 2,
       "version_minor": 0
      },
      "text/plain": [
       "HBox(children=(FloatProgress(value=0.0, description='camera', max=8.0, style=ProgressStyle(description_width='…"
      ]
     },
     "metadata": {},
     "output_type": "display_data"
    },
    {
     "data": {
      "application/vnd.jupyter.widget-view+json": {
       "model_id": "",
       "version_major": 2,
       "version_minor": 0
      },
      "text/plain": [
       "HBox(children=(FloatProgress(value=0.0, description='frame', max=1108.0, style=ProgressStyle(description_width…"
      ]
     },
     "metadata": {},
     "output_type": "display_data"
    },
    {
     "data": {
      "application/vnd.jupyter.widget-view+json": {
       "model_id": "",
       "version_major": 2,
       "version_minor": 0
      },
      "text/plain": [
       "HBox(children=(FloatProgress(value=0.0, description='frame', max=1154.0, style=ProgressStyle(description_width…"
      ]
     },
     "metadata": {},
     "output_type": "display_data"
    },
    {
     "data": {
      "application/vnd.jupyter.widget-view+json": {
       "model_id": "",
       "version_major": 2,
       "version_minor": 0
      },
      "text/plain": [
       "HBox(children=(FloatProgress(value=0.0, description='frame', max=1159.0, style=ProgressStyle(description_width…"
      ]
     },
     "metadata": {},
     "output_type": "display_data"
    },
    {
     "data": {
      "application/vnd.jupyter.widget-view+json": {
       "model_id": "",
       "version_major": 2,
       "version_minor": 0
      },
      "text/plain": [
       "HBox(children=(FloatProgress(value=0.0, description='frame', max=1149.0, style=ProgressStyle(description_width…"
      ]
     },
     "metadata": {},
     "output_type": "display_data"
    },
    {
     "data": {
      "application/vnd.jupyter.widget-view+json": {
       "model_id": "",
       "version_major": 2,
       "version_minor": 0
      },
      "text/plain": [
       "HBox(children=(FloatProgress(value=0.0, description='frame', max=1161.0, style=ProgressStyle(description_width…"
      ]
     },
     "metadata": {},
     "output_type": "display_data"
    },
    {
     "data": {
      "application/vnd.jupyter.widget-view+json": {
       "model_id": "",
       "version_major": 2,
       "version_minor": 0
      },
      "text/plain": [
       "HBox(children=(FloatProgress(value=0.0, description='frame', max=1154.0, style=ProgressStyle(description_width…"
      ]
     },
     "metadata": {},
     "output_type": "display_data"
    },
    {
     "data": {
      "application/vnd.jupyter.widget-view+json": {
       "model_id": "",
       "version_major": 2,
       "version_minor": 0
      },
      "text/plain": [
       "HBox(children=(FloatProgress(value=0.0, description='frame', max=1155.0, style=ProgressStyle(description_width…"
      ]
     },
     "metadata": {},
     "output_type": "display_data"
    },
    {
     "data": {
      "application/vnd.jupyter.widget-view+json": {
       "model_id": "",
       "version_major": 2,
       "version_minor": 0
      },
      "text/plain": [
       "HBox(children=(FloatProgress(value=0.0, description='frame', max=1142.0, style=ProgressStyle(description_width…"
      ]
     },
     "metadata": {},
     "output_type": "display_data"
    },
    {
     "data": {
      "application/vnd.jupyter.widget-view+json": {
       "model_id": "",
       "version_major": 2,
       "version_minor": 0
      },
      "text/plain": [
       "HBox(children=(FloatProgress(value=0.0, description='camera', max=8.0, style=ProgressStyle(description_width='…"
      ]
     },
     "metadata": {},
     "output_type": "display_data"
    },
    {
     "data": {
      "application/vnd.jupyter.widget-view+json": {
       "model_id": "",
       "version_major": 2,
       "version_minor": 0
      },
      "text/plain": [
       "HBox(children=(FloatProgress(value=0.0, description='frame', max=5380.0, style=ProgressStyle(description_width…"
      ]
     },
     "metadata": {},
     "output_type": "display_data"
    },
    {
     "data": {
      "application/vnd.jupyter.widget-view+json": {
       "model_id": "",
       "version_major": 2,
       "version_minor": 0
      },
      "text/plain": [
       "HBox(children=(FloatProgress(value=0.0, description='frame', max=5401.0, style=ProgressStyle(description_width…"
      ]
     },
     "metadata": {},
     "output_type": "display_data"
    },
    {
     "data": {
      "application/vnd.jupyter.widget-view+json": {
       "model_id": "",
       "version_major": 2,
       "version_minor": 0
      },
      "text/plain": [
       "HBox(children=(FloatProgress(value=0.0, description='frame', max=5401.0, style=ProgressStyle(description_width…"
      ]
     },
     "metadata": {},
     "output_type": "display_data"
    },
    {
     "data": {
      "application/vnd.jupyter.widget-view+json": {
       "model_id": "",
       "version_major": 2,
       "version_minor": 0
      },
      "text/plain": [
       "HBox(children=(FloatProgress(value=0.0, description='frame', max=5394.0, style=ProgressStyle(description_width…"
      ]
     },
     "metadata": {},
     "output_type": "display_data"
    },
    {
     "data": {
      "application/vnd.jupyter.widget-view+json": {
       "model_id": "",
       "version_major": 2,
       "version_minor": 0
      },
      "text/plain": [
       "HBox(children=(FloatProgress(value=0.0, description='frame', max=5403.0, style=ProgressStyle(description_width…"
      ]
     },
     "metadata": {},
     "output_type": "display_data"
    },
    {
     "data": {
      "application/vnd.jupyter.widget-view+json": {
       "model_id": "",
       "version_major": 2,
       "version_minor": 0
      },
      "text/plain": [
       "HBox(children=(FloatProgress(value=0.0, description='frame', max=5409.0, style=ProgressStyle(description_width…"
      ]
     },
     "metadata": {},
     "output_type": "display_data"
    },
    {
     "data": {
      "application/vnd.jupyter.widget-view+json": {
       "model_id": "",
       "version_major": 2,
       "version_minor": 0
      },
      "text/plain": [
       "HBox(children=(FloatProgress(value=0.0, description='frame', max=5399.0, style=ProgressStyle(description_width…"
      ]
     },
     "metadata": {},
     "output_type": "display_data"
    },
    {
     "data": {
      "application/vnd.jupyter.widget-view+json": {
       "model_id": "",
       "version_major": 2,
       "version_minor": 0
      },
      "text/plain": [
       "HBox(children=(FloatProgress(value=0.0, description='frame', max=5349.0, style=ProgressStyle(description_width…"
      ]
     },
     "metadata": {},
     "output_type": "display_data"
    },
    {
     "data": {
      "application/vnd.jupyter.widget-view+json": {
       "model_id": "",
       "version_major": 2,
       "version_minor": 0
      },
      "text/plain": [
       "HBox(children=(FloatProgress(value=0.0, description='camera', max=8.0, style=ProgressStyle(description_width='…"
      ]
     },
     "metadata": {},
     "output_type": "display_data"
    },
    {
     "data": {
      "application/vnd.jupyter.widget-view+json": {
       "model_id": "",
       "version_major": 2,
       "version_minor": 0
      },
      "text/plain": [
       "HBox(children=(FloatProgress(value=0.0, description='frame', max=3675.0, style=ProgressStyle(description_width…"
      ]
     },
     "metadata": {},
     "output_type": "display_data"
    },
    {
     "data": {
      "application/vnd.jupyter.widget-view+json": {
       "model_id": "",
       "version_major": 2,
       "version_minor": 0
      },
      "text/plain": [
       "HBox(children=(FloatProgress(value=0.0, description='frame', max=3708.0, style=ProgressStyle(description_width…"
      ]
     },
     "metadata": {},
     "output_type": "display_data"
    },
    {
     "data": {
      "application/vnd.jupyter.widget-view+json": {
       "model_id": "",
       "version_major": 2,
       "version_minor": 0
      },
      "text/plain": [
       "HBox(children=(FloatProgress(value=0.0, description='frame', max=3679.0, style=ProgressStyle(description_width…"
      ]
     },
     "metadata": {},
     "output_type": "display_data"
    },
    {
     "data": {
      "application/vnd.jupyter.widget-view+json": {
       "model_id": "",
       "version_major": 2,
       "version_minor": 0
      },
      "text/plain": [
       "HBox(children=(FloatProgress(value=0.0, description='frame', max=3672.0, style=ProgressStyle(description_width…"
      ]
     },
     "metadata": {},
     "output_type": "display_data"
    },
    {
     "data": {
      "application/vnd.jupyter.widget-view+json": {
       "model_id": "",
       "version_major": 2,
       "version_minor": 0
      },
      "text/plain": [
       "HBox(children=(FloatProgress(value=0.0, description='frame', max=3709.0, style=ProgressStyle(description_width…"
      ]
     },
     "metadata": {},
     "output_type": "display_data"
    },
    {
     "data": {
      "application/vnd.jupyter.widget-view+json": {
       "model_id": "",
       "version_major": 2,
       "version_minor": 0
      },
      "text/plain": [
       "HBox(children=(FloatProgress(value=0.0, description='frame', max=3682.0, style=ProgressStyle(description_width…"
      ]
     },
     "metadata": {},
     "output_type": "display_data"
    },
    {
     "data": {
      "application/vnd.jupyter.widget-view+json": {
       "model_id": "",
       "version_major": 2,
       "version_minor": 0
      },
      "text/plain": [
       "HBox(children=(FloatProgress(value=0.0, description='frame', max=3706.0, style=ProgressStyle(description_width…"
      ]
     },
     "metadata": {},
     "output_type": "display_data"
    },
    {
     "data": {
      "application/vnd.jupyter.widget-view+json": {
       "model_id": "",
       "version_major": 2,
       "version_minor": 0
      },
      "text/plain": [
       "HBox(children=(FloatProgress(value=0.0, description='frame', max=3643.0, style=ProgressStyle(description_width…"
      ]
     },
     "metadata": {},
     "output_type": "display_data"
    },
    {
     "name": "stdout",
     "output_type": "stream",
     "text": [
      "\n"
     ]
    }
   ],
   "source": [
    "cap.release()\n",
    "csv_header = [f'{feature}_{frame}' for frame in range(SEQ_LENGTH) for feature in FEATURES] + ['LABEL']\n",
    "\n",
    "with open(DATASET_CSV_FILE, 'a', newline='') as f:\n",
    "    writer = csv.writer(f)\n",
    "    writer.writerow(csv_header)\n",
    "\n",
    "    # Iterate over the scenarios\n",
    "    for scenario in trange(1, NUM_SCENARIOS + 1, desc='scenario'):\n",
    "\n",
    "        # Get all videos (one per camera)\n",
    "        chute = f'chute{scenario:02}'\n",
    "        videos = sorted(VIDEOS_FOLDER.glob(f'{chute}/*'))\n",
    "        starts = annotations[f'scenario{scenario}']['start']   # All the frame indices in which a fall starts\n",
    "        ends = annotations[f'scenario{scenario}']['end']       # All the frame indices in which a fall ends\n",
    "\n",
    "        for cam, video in tqdm(enumerate(videos, 1), desc='camera', total=len(videos), leave=False):\n",
    "            \n",
    "            cap = cv2.VideoCapture(str(video))\n",
    "            length = int(cap.get(cv2.CAP_PROP_FRAME_COUNT))\n",
    "            delay = delays[f'{scenario}'][f'camera{cam}']\n",
    "            feature_vectors_sequence = []\n",
    "            background_subtractor = cv2.createBackgroundSubtractorMOG2()\n",
    "\n",
    "            ### tMHI prep\n",
    "            fps = cap.get(cv2.CAP_PROP_FPS)\n",
    "            ms_per_frame = 1000 / fps   # milliseconds\n",
    "            _, last_frame = cap.read()\n",
    "            last_frame = cv2.GaussianBlur(last_frame, GAUSSIAN_KERNEL, 0)\n",
    "            h, w = last_frame.shape[:2]\n",
    "            mhi = np.zeros((h, w), np.float32)\n",
    "\n",
    "            ### Kalman Filter Prep\n",
    "            state_size = 8          # [x, y, v_x, v_y, alpha, v_alpha, a, b]\n",
    "            measurement_size = 5    # [x, y, alpha, a, b]\n",
    "            kalman = cv2.KalmanFilter(state_size, measurement_size, 0)\n",
    "            kalman.transitionMatrix = np.eye(state_size, dtype=np.float32)\n",
    "            kalman.transitionMatrix[(0,1,4), (2,3,5)] = ms_per_frame\n",
    "            kalman.measurementMatrix = np.zeros((measurement_size, state_size), dtype=np.float32)\n",
    "            pos = [(0,0), (1,1), (2,4), (3,6), (4,7)]\n",
    "            rows, cols = zip(*pos)\n",
    "            kalman.measurementMatrix[rows, cols] = 1.\n",
    "            kalman.processNoiseCov = 1e-5 * np.eye(state_size, dtype=np.float32)  # Values can't change sharply\n",
    "            kalman.processNoiseCov[4,4] = 0        # Angle shouldn't change very fast (unless there is a fall!)\n",
    "            kalman.processNoiseCov[(6,7),(6,7)] = 5e-4        # Height and width can change faster\n",
    "            kalman.measurementNoiseCov = np.eye(measurement_size, dtype=np.float32)\n",
    "            kalman.measurementNoiseCov[2,2] = 1e-1  # Angle is very noisy (especially around the limits)\n",
    "            kalman.measurementNoiseCov[(0,1),(0,1)] = 1  # Center is super noisy\n",
    "            kalman.measurementNoiseCov[(3,4),(3,4)] = 1e-1  # Height and width are not noisy\n",
    "            kalman_filter_active = False  # This will change according to our contour search\n",
    "            NO_CONTOUR_TOLERANCE = 10     # After this amount of frames with no contours the KF will turn inactive\n",
    "            contour_unfound_count = 0     \n",
    "\n",
    "            ### Continous angle tracking (to avoid drastic changes on direction change)\n",
    "            last_angle = None\n",
    "\n",
    "            for frame_number in trange(length - 1, desc='frame', leave=False):\n",
    "                ret, frame = cap.read()\n",
    "                \n",
    "                # Get the label for the frame\n",
    "                label = 0\n",
    "                for (start, end) in zip(starts, ends):\n",
    "                    if start + delay + MIN_NUMBER_OF_FALL_FRAMES <= frame_number <= end + delay + MIN_NUMBER_OF_FALL_FRAMES:\n",
    "                        label = 1\n",
    "                        break\n",
    "\n",
    "                # Set parameters to 0 unless found otherwise\n",
    "                c_motion = 0\n",
    "                projection_ratio = 0\n",
    "\n",
    "                # Transformations to improve the background subtraction\n",
    "                # tMHI\n",
    "                img = cv2.GaussianBlur(frame, GAUSSIAN_KERNEL, 0)\n",
    "                frame_diff = cv2.absdiff(img, last_frame)\n",
    "                gray_diff = cv2.cvtColor(frame_diff, cv2.COLOR_BGR2GRAY)\n",
    "                _, motion_mask = cv2.threshold(gray_diff, MHI_THRESHOLD, 1, cv2.THRESH_BINARY)\n",
    "                cv2.motempl.updateMotionHistory(motion_mask, mhi, fn * ms_per_frame, MHI_DURATION)\n",
    "                last_frame = img\n",
    "\n",
    "                # Preparation for contour finding\n",
    "                img = cv2.GaussianBlur(frame, (5,5), 0)\n",
    "                img = background_subtractor.apply(img)\n",
    "                img = cv2.erode(img, EROTION_KERNEL, iterations=1)\n",
    "                img = cv2.morphologyEx(img, cv2.MORPH_CLOSE, CLOSING_KERNEL, iterations=5)\n",
    "                img[img < 255] = 0\n",
    "\n",
    "                # Find contours\n",
    "                (contours, _) = cv2.findContours(img, cv2.RETR_TREE, cv2.CHAIN_APPROX_SIMPLE)\n",
    "                img = cv2.cvtColor(img, cv2.COLOR_BGR2RGB)\n",
    "\n",
    "                if contours:\n",
    "                    biggest_contour = max(contours, key=lambda c: cv2.contourArea(c))\n",
    "\n",
    "                    # Check minimal requirements to fit new ellipse\n",
    "                    if cv2.contourArea(biggest_contour) > MIN_HUMAN_CONTOUR_AREA and len(biggest_contour) >= 5:\n",
    "                        # calculate motion coefficient\n",
    "                        mask = np.zeros(img.shape[:2], dtype=\"uint8\")\n",
    "                        cv2.drawContours(mask, biggest_contour, -1, 1, -1)\n",
    "                        tmhi = np.uint8(np.clip((mhi - (fn * ms_per_frame - MHI_DURATION)) / MHI_DURATION, 0, 1))\n",
    "                        relevant_tmhi = np.multiply(mask, tmhi)\n",
    "                        c_motion = np.sum(relevant_tmhi) / np.sum(mask) \n",
    "\n",
    "                        # calculate projections\n",
    "                        horizontal_proj = mask.any(axis=0).sum()\n",
    "                        vertical_proj = mask.any(axis=1).sum()\n",
    "                        projection_ratio = vertical_proj / horizontal_proj\n",
    "\n",
    "                        contour_unfound_count = 0\n",
    "                        measured_ellipse = cv2.fitEllipse(biggest_contour)\n",
    "                        (x, y), (MA, ma), alpha = measured_ellipse\n",
    "                        if not kalman_filter_active:\n",
    "                            last_angle = alpha\n",
    "                            kalman.errorCovPre = np.eye(state_size)\n",
    "                            state = np.array([x, y, 0, 0, alpha, 0, MA, ma], dtype=np.float32)[:, np.newaxis]\n",
    "                            kalman.statePost = state\n",
    "                            kalman_filter_active = True\n",
    "                        else:\n",
    "                            corrected_alpha = min(alpha, alpha - 180, alpha + 180, key=lambda x: abs(x - last_angle))\n",
    "                            kalman.correct(np.array([x, y, corrected_alpha, MA, ma], dtype=np.float32)[:, np.newaxis])\n",
    "                            last_angle = corrected_alpha\n",
    "\n",
    "                    else:\n",
    "                        contour_unfound_count += 1\n",
    "                        if contour_unfound_count >= NO_CONTOUR_TOLERANCE:\n",
    "                            kalman_filter_active = False\n",
    "                            last_angle = None\n",
    "\n",
    "                else:\n",
    "                    contour_unfound_count += 1\n",
    "                    if contour_unfound_count >= NO_CONTOUR_TOLERANCE:\n",
    "                        kalman_filter_active = False\n",
    "                        last_angle = None\n",
    "\n",
    "                if kalman_filter_active:\n",
    "                    state = kalman.predict() \n",
    "                    ctr_x, ctr_y, ctr_vx, ctr_vy, alpha, v_alpha, a, b = state.T[0]\n",
    "                    feature_vectors_sequence.append([ctr_x, ctr_y, ctr_vx, ctr_vy, \n",
    "                                                     alpha, v_alpha, a, b, \n",
    "                                                     a / b, c_motion, projection_ratio])                    \n",
    "                \n",
    "                # when we have SEQ_LENGTH vectors that at least one is non zero, write it to the CSV and remove the first frame features\n",
    "                if len(feature_vectors_sequence) == SEQ_LENGTH:\n",
    "                    data = np.array(feature_vectors_sequence).ravel()\n",
    "                    if np.any(data):\n",
    "                        writer.writerow(np.append(data, [label]))\n",
    "                    del feature_vectors_sequence[0]\n",
    "\n",
    "            # Release the video\n",
    "            cap.release()"
   ]
  },
  {
   "cell_type": "markdown",
   "metadata": {},
   "source": [
    "## Training"
   ]
  },
  {
   "cell_type": "markdown",
   "metadata": {},
   "source": [
    "Let's train a simple xgb"
   ]
  },
  {
   "cell_type": "code",
   "execution_count": 191,
   "metadata": {},
   "outputs": [],
   "source": [
    "from xgboost import XGBClassifier"
   ]
  },
  {
   "cell_type": "code",
   "execution_count": 192,
   "metadata": {},
   "outputs": [],
   "source": [
    "df = pd.read_csv('data/multicam/multicam_dataset.csv')"
   ]
  },
  {
   "cell_type": "code",
   "execution_count": 193,
   "metadata": {},
   "outputs": [],
   "source": [
    "sss = StratifiedShuffleSplit(n_splits=1, test_size=0.1, random_state=0)\n",
    "for train_index, test_index in sss.split(df.drop('LABEL', axis=1), df['LABEL']):\n",
    "    train, test = df.loc[train_index], df.loc[test_index]"
   ]
  },
  {
   "cell_type": "code",
   "execution_count": 194,
   "metadata": {},
   "outputs": [],
   "source": [
    "# Separate majority and minority classes\n",
    "df_majority = train[train.LABEL == 0]\n",
    "df_minority = train[train.LABEL == 1] "
   ]
  },
  {
   "cell_type": "code",
   "execution_count": 195,
   "metadata": {},
   "outputs": [
    {
     "data": {
      "text/plain": [
       "(153240, 5)"
      ]
     },
     "execution_count": 195,
     "metadata": {},
     "output_type": "execute_result"
    }
   ],
   "source": [
    "df_majority.shape"
   ]
  },
  {
   "cell_type": "code",
   "execution_count": 196,
   "metadata": {},
   "outputs": [
    {
     "data": {
      "text/plain": [
       "(7610, 5)"
      ]
     },
     "execution_count": 196,
     "metadata": {},
     "output_type": "execute_result"
    }
   ],
   "source": [
    "df_minority.shape"
   ]
  },
  {
   "cell_type": "code",
   "execution_count": 197,
   "metadata": {},
   "outputs": [],
   "source": [
    "# Downsample majority class\n",
    "df_majority_downsampled = resample(df_majority, replace=False, n_samples=15000, random_state=1)\n",
    " \n",
    "# Combine minority class with downsampled majority class\n",
    "df_downsampled = pd.concat([df_majority_downsampled, df_minority])"
   ]
  },
  {
   "cell_type": "code",
   "execution_count": 198,
   "metadata": {},
   "outputs": [],
   "source": [
    "train_data = df_downsampled.drop('LABEL', axis=1).values\n",
    "train_target = df_downsampled['LABEL'].values\n",
    "test_data = test.drop('LABEL', axis=1).values\n",
    "test_target = test['LABEL'].values"
   ]
  },
  {
   "cell_type": "code",
   "execution_count": 199,
   "metadata": {},
   "outputs": [],
   "source": [
    "xgb = XGBClassifier()"
   ]
  },
  {
   "cell_type": "code",
   "execution_count": 201,
   "metadata": {},
   "outputs": [
    {
     "data": {
      "text/plain": [
       "XGBClassifier(base_score=0.5, booster=None, colsample_bylevel=1,\n",
       "              colsample_bynode=1, colsample_bytree=1, gamma=0, gpu_id=-1,\n",
       "              importance_type='gain', interaction_constraints=None,\n",
       "              learning_rate=0.300000012, max_delta_step=0, max_depth=6,\n",
       "              min_child_weight=1, missing=nan, monotone_constraints=None,\n",
       "              n_estimators=100, n_jobs=0, num_parallel_tree=1,\n",
       "              objective='binary:logistic', random_state=0, reg_alpha=0,\n",
       "              reg_lambda=1, scale_pos_weight=1, subsample=1, tree_method=None,\n",
       "              validate_parameters=False, verbosity=None)"
      ]
     },
     "execution_count": 201,
     "metadata": {},
     "output_type": "execute_result"
    }
   ],
   "source": [
    "xgb.fit(train_data, train_target)"
   ]
  },
  {
   "cell_type": "code",
   "execution_count": 207,
   "metadata": {},
   "outputs": [],
   "source": [
    "predictions = xgb.predict(test_data)"
   ]
  },
  {
   "cell_type": "code",
   "execution_count": 208,
   "metadata": {},
   "outputs": [],
   "source": [
    "(tn, fp), (fn, tp) = confusion_matrix(test_target, predictions, labels=[0,1])"
   ]
  },
  {
   "cell_type": "code",
   "execution_count": 209,
   "metadata": {},
   "outputs": [],
   "source": [
    "sensitivity = tp / (tp + fn)\n",
    "specifity = tn / (tn + fp)\n",
    "precision = tp / (tp + fp)\n",
    "balanced_accuracy = (sensitivity + specifity) / 2"
   ]
  },
  {
   "cell_type": "code",
   "execution_count": 210,
   "metadata": {},
   "outputs": [
    {
     "data": {
      "text/plain": [
       "(0.4491725768321513,\n",
       " 0.8585188230457509,\n",
       " 0.13624955181068482,\n",
       " 0.653845699938951)"
      ]
     },
     "execution_count": 210,
     "metadata": {},
     "output_type": "execute_result"
    }
   ],
   "source": [
    "sensitivity, specifity, precision, balanced_accuracy"
   ]
  },
  {
   "cell_type": "markdown",
   "metadata": {},
   "source": [
    "## Training"
   ]
  },
  {
   "cell_type": "markdown",
   "metadata": {},
   "source": [
    "Let's train a simple LSTM on our data, and see if we can get nice results. We'll start by using a super simple RNN network.  \n",
    "  \n",
    "**Steps:**\n",
    "1. Load the dataframe.\n",
    "2. Create train / test.\n",
    "3. Train a model on train and get metrics\n",
    "4. Get metrics on test\n",
    "\n",
    "That's it for now!\n"
   ]
  },
  {
   "cell_type": "code",
   "execution_count": 104,
   "metadata": {},
   "outputs": [],
   "source": [
    "import torch, torch.nn as nn\n",
    "import torch.nn.functional as F\n",
    "from torch.utils.data import TensorDataset, DataLoader\n",
    "\n",
    "import pandas as pd"
   ]
  },
  {
   "cell_type": "code",
   "execution_count": 105,
   "metadata": {},
   "outputs": [],
   "source": [
    "from sklearn.utils import resample\n",
    "from sklearn.model_selection import StratifiedShuffleSplit"
   ]
  },
  {
   "cell_type": "code",
   "execution_count": 106,
   "metadata": {},
   "outputs": [],
   "source": [
    "df = pd.read_csv('data/multicam/multicam_dataset.csv')"
   ]
  },
  {
   "cell_type": "code",
   "execution_count": 107,
   "metadata": {},
   "outputs": [],
   "source": [
    "sss = StratifiedShuffleSplit(n_splits=1, test_size=0.1, random_state=0)\n",
    "for train_index, test_index in sss.split(df.drop('LABEL', axis=1), df['LABEL']):\n",
    "    train, test = df.loc[train_index], df.loc[test_index]"
   ]
  },
  {
   "cell_type": "code",
   "execution_count": 108,
   "metadata": {},
   "outputs": [],
   "source": [
    "# Separate majority and minority classes\n",
    "df_majority = train[train.LABEL == 0]\n",
    "df_minority = train[train.LABEL == 1] "
   ]
  },
  {
   "cell_type": "code",
   "execution_count": 109,
   "metadata": {},
   "outputs": [
    {
     "data": {
      "text/plain": [
       "(153664, 166)"
      ]
     },
     "execution_count": 109,
     "metadata": {},
     "output_type": "execute_result"
    }
   ],
   "source": [
    "df_majority.shape"
   ]
  },
  {
   "cell_type": "code",
   "execution_count": 110,
   "metadata": {},
   "outputs": [
    {
     "data": {
      "text/plain": [
       "(7638, 166)"
      ]
     },
     "execution_count": 110,
     "metadata": {},
     "output_type": "execute_result"
    }
   ],
   "source": [
    "df_minority.shape"
   ]
  },
  {
   "cell_type": "code",
   "execution_count": 111,
   "metadata": {},
   "outputs": [],
   "source": [
    "# Downsample majority class\n",
    "df_majority_downsampled = resample(df_majority, replace=False, n_samples=15000, random_state=1)\n",
    " \n",
    "# Combine minority class with downsampled majority class\n",
    "df_downsampled = pd.concat([df_majority_downsampled, df_minority])"
   ]
  },
  {
   "cell_type": "code",
   "execution_count": 112,
   "metadata": {},
   "outputs": [],
   "source": [
    "BATCH_SIZE = 64"
   ]
  },
  {
   "cell_type": "code",
   "execution_count": 113,
   "metadata": {},
   "outputs": [],
   "source": [
    "# Convert data to tensors\n",
    "train_data = torch.tensor(df_downsampled.drop('LABEL', axis=1).values.reshape(len(df_downsampled), SEQ_LENGTH, -1).astype(np.float32))\n",
    "train_target = torch.tensor(df_downsampled['LABEL'].values.astype(np.float32))\n",
    "test_data = torch.tensor(test.drop('LABEL', axis=1).values.reshape(len(test), SEQ_LENGTH, -1).astype(np.float32))\n",
    "test_target = torch.tensor(test['LABEL'].values.astype(np.float32))\n",
    "\n",
    "# Create the loaders\n",
    "trainloader = DataLoader(dataset=TensorDataset(train_data, train_target), batch_size=BATCH_SIZE, shuffle=True)\n",
    "testloader = DataLoader(dataset=TensorDataset(test_data, test_target), batch_size=BATCH_SIZE, shuffle=True)\n",
    "dataloaders = {\"train\": trainloader, \"validation\": testloader}"
   ]
  },
  {
   "cell_type": "code",
   "execution_count": 114,
   "metadata": {},
   "outputs": [],
   "source": [
    "class FallRNNLoop(nn.Module):\n",
    "    def __init__(self, num_tokens=len(FEATURES), rnn_num_units=64):\n",
    "        super(self.__class__, self).__init__()\n",
    "        self.rnn = nn.RNN(num_tokens, rnn_num_units, batch_first=True)\n",
    "        self.hid_to_logits = nn.Linear(rnn_num_units, 1)\n",
    "        \n",
    "    def forward(self, x):\n",
    "        h_seq, _ = self.rnn(x)\n",
    "        post_linear = self.hid_to_logits(h_seq)\n",
    "        prediction = F.sigmoid(post_linear)\n",
    "        return prediction[-1,:,0]"
   ]
  },
  {
   "cell_type": "code",
   "execution_count": 115,
   "metadata": {},
   "outputs": [],
   "source": [
    "class FallLSTMLoop(nn.Module):\n",
    "    def __init__(self, num_tokens=len(FEATURES), rnn_num_units=64):\n",
    "        super(self.__class__, self).__init__()\n",
    "        self.rnn = nn.LSTM(num_tokens, rnn_num_units, batch_first=True)\n",
    "        self.hid_to_logits = nn.Linear(rnn_num_units, 1)\n",
    "        \n",
    "    def forward(self, x):\n",
    "        output, _ = self.rnn(x)\n",
    "        post_linear = self.hid_to_logits(output)\n",
    "        prediction = F.sigmoid(post_linear)\n",
    "        return prediction[-1,:,0]"
   ]
  },
  {
   "cell_type": "code",
   "execution_count": 122,
   "metadata": {},
   "outputs": [],
   "source": [
    "NUM_EPOCHS = 150"
   ]
  },
  {
   "cell_type": "code",
   "execution_count": 117,
   "metadata": {},
   "outputs": [],
   "source": [
    "import mlflow\n",
    "import mlflow.pytorch\n",
    "from livelossplot import PlotLosses\n",
    "from collections import defaultdict\n",
    "from datetime import datetime\n",
    "import copy\n",
    "from sklearn.metrics import confusion_matrix"
   ]
  },
  {
   "cell_type": "code",
   "execution_count": 118,
   "metadata": {},
   "outputs": [],
   "source": [
    "experiment_name = 'Kalman filter, Ellipse, tMHI, c_motion, projection ratio with LSTM'"
   ]
  },
  {
   "cell_type": "code",
   "execution_count": 123,
   "metadata": {},
   "outputs": [
    {
     "data": {
      "image/png": "[encoded data removed]",
      "text/plain": [
       "<Figure size 864x1152 with 5 Axes>"
      ]
     },
     "metadata": {
      "needs_background": "light"
     },
     "output_type": "display_data"
    },
    {
     "name": "stdout",
     "output_type": "stream",
     "text": [
      "balanced_accuracy\n",
      "\ttraining         \t (min:    0.509, max:    0.796, cur:    0.795)\n",
      "\tvalidation       \t (min:    0.501, max:    0.799, cur:    0.783)\n",
      "Loss\n",
      "\ttraining         \t (min:    0.006, max:    0.009, cur:    0.006)\n",
      "\tvalidation       \t (min:    0.004, max:    0.007, cur:    0.006)\n",
      "precision\n",
      "\ttraining         \t (min:    0.590, max:    0.757, cur:    0.753)\n",
      "\tvalidation       \t (min:    0.221, max:    0.660, cur:    0.558)\n",
      "sensitivity\n",
      "\ttraining         \t (min:    0.026, max:    0.710, cur:    0.708)\n",
      "\tvalidation       \t (min:    0.043, max:    0.716, cur:    0.716)\n",
      "specifity\n",
      "\ttraining         \t (min:    0.857, max:    0.992, cur:    0.882)\n",
      "\tvalidation       \t (min:    0.806, max:    0.980, cur:    0.850)\n",
      "Finished Training\n"
     ]
    },
    {
     "name": "stderr",
     "output_type": "stream",
     "text": [
      "C:\\Users\\Jonathan\\Miniconda3\\envs\\ojos_ai\\lib\\site-packages\\torch\\serialization.py:360: UserWarning: Couldn't retrieve source code for container of type FallLSTMLoop. It won't be checked for correctness upon loading.\n",
      "  \"type \" + obj.__name__ + \". It won't be checked \"\n"
     ]
    }
   ],
   "source": [
    "liveloss = PlotLosses()\n",
    "model = FallLSTMLoop()\n",
    "optimizer = torch.optim.Adam(model.parameters())\n",
    "criterion = nn.BCELoss()\n",
    "best_model = None\n",
    "best_metrics = None\n",
    "\n",
    "mlflow.set_experiment(experiment_name)  # CRITICAL TO CHANGE EVERY TIME\n",
    "with mlflow.start_run(run_name=datetime.now().strftime(\"%Y-%m-%d %H:%M:%S\")):\n",
    "    mlflow.log_param('epochs', NUM_EPOCHS)\n",
    "    mlflow.log_param('features', FEATURES)  \n",
    "    for epoch in range(NUM_EPOCHS):\n",
    "        logs = defaultdict(float)\n",
    "        metrics = defaultdict(int)\n",
    "        for phase in ['train', 'validation']:\n",
    "            prefix = 'val_' if phase == 'validation' else ''\n",
    "            if phase == 'train':\n",
    "                model.train()\n",
    "            else:\n",
    "                model.eval()\n",
    "\n",
    "            for inputs, labels in dataloaders[phase]:\n",
    "\n",
    "                outputs = model(inputs.permute(1, 0, 2))\n",
    "                loss = criterion(outputs, labels)\n",
    "\n",
    "                if phase == 'train':\n",
    "                    optimizer.zero_grad()\n",
    "                    loss.backward()\n",
    "                    optimizer.step()\n",
    "\n",
    "                logs[f'{prefix}loss'] += loss.item()\n",
    "                predictions = np.where(outputs > 0.5, 1, 0)\n",
    "                (tn, fp), (fn, tp) = confusion_matrix(labels, predictions, labels=[0,1])\n",
    "                metrics['tn'] += tn\n",
    "                metrics['tp'] += tp\n",
    "                metrics['fn'] += fn\n",
    "                metrics['fp'] += fp\n",
    "            \n",
    "            logs[f'{prefix}loss'] /= len(dataloaders[phase].dataset)\n",
    "            logs[f'{prefix}sensitivity'] = metrics['tp'] / (metrics['tp'] + metrics['fn'])\n",
    "            logs[f'{prefix}specifity'] = metrics['tn'] / (metrics['tn'] + metrics['fp'])\n",
    "            logs[f'{prefix}precision'] = metrics['tp'] / (metrics['tp'] + metrics['fp'])\n",
    "            logs[f'{prefix}balanced_accuracy'] = (logs[f'{prefix}sensitivity'] + logs[f'{prefix}specifity']) / 2\n",
    "            \n",
    "            if not best_metrics:\n",
    "                best_model = copy.deepcopy(model)\n",
    "                best_metrics = copy.deepcopy(logs)\n",
    "            elif logs['balanced_accuracy'] > best_metrics['balanced_accuracy']:\n",
    "                best_model = copy.deepcopy(model)\n",
    "                best_metrics = copy.deepcopy(logs)\n",
    "            \n",
    "        liveloss.update(logs)\n",
    "        liveloss.send()\n",
    "\n",
    "    mlflow.log_metrics(best_metrics)\n",
    "    mlflow.pytorch.log_model(best_model, \"models\")\n",
    "print('Finished Training')"
   ]
  },
  {
   "cell_type": "markdown",
   "metadata": {},
   "source": [
    "## Conclusions"
   ]
  },
  {
   "cell_type": "markdown",
   "metadata": {},
   "source": [
    "OK Folks, That's good enough for now!  \n",
    "Time to go back to the beginning, read some papers, and try to train a better model, with better input features!  \n",
    "_Hasta luego!_"
   ]
  }
 ],
 "metadata": {
  "kernelspec": {
   "display_name": "Python 3",
   "language": "python",
   "name": "python3"
  },
  "language_info": {
   "codemirror_mode": {
    "name": "ipython",
    "version": 3
   },
   "file_extension": ".py",
   "mimetype": "text/x-python",
   "name": "python",
   "nbconvert_exporter": "python",
   "pygments_lexer": "ipython3",
   "version": "3.6.3"
  }
 },
 "nbformat": 4,
 "nbformat_minor": 4
}
